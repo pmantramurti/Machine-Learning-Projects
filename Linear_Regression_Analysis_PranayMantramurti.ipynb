{
  "nbformat": 4,
  "nbformat_minor": 0,
  "metadata": {
    "colab": {
      "provenance": [],
      "collapsed_sections": [
        "uru5YkKbI4Ri",
        "9ySgv4Kb70bl",
        "LgXaA-I2SbJv",
        "eGUokxpoSpgx",
        "14ui84tFUa0F",
        "LhNqlOXIzezw",
        "8u_mZerS0YCP",
        "ZYA8SGBt1uDB",
        "hEUIe4yt6hNO",
        "7hV2gANU8PJu",
        "X1N_ChY2YpOa",
        "dylPhs8UYKxe",
        "V3cmIjZQY205",
        "mKfphwF_q8fx",
        "41hXi-1Vk8br",
        "IQ4G1KC9ldeX",
        "nbg5qjAYtYAC",
        "aztf03wmuILf",
        "6R3Jk7-Vut7N",
        "A1MAI6qKZ44x",
        "xw1OOjnc2DC9",
        "A3aBf3-g7u7n",
        "JjhUOPh8GufJ"
      ]
    },
    "kernelspec": {
      "name": "python3",
      "display_name": "Python 3"
    },
    "language_info": {
      "name": "python"
    }
  },
  "cells": [
    {
      "cell_type": "markdown",
      "source": [
        "Collapse [Preprocessing] and [Model Construction], then run the import section, [Preprocessing], then [Model Construction]. Then expand each section to see the process and results."
      ],
      "metadata": {
        "id": "IV9cBTsPk-sl"
      }
    },
    {
      "cell_type": "code",
      "source": [
        "import pandas as pd\n",
        "import matplotlib.pyplot as plt\n",
        "import seaborn as sns \n",
        "import numpy as np\n",
        "import sklearn"
      ],
      "metadata": {
        "id": "1Ei5qipWJOeT"
      },
      "execution_count": null,
      "outputs": []
    },
    {
      "cell_type": "markdown",
      "source": [
        "# Preprocessing"
      ],
      "metadata": {
        "id": "uru5YkKbI4Ri"
      }
    },
    {
      "cell_type": "markdown",
      "source": [
        "###Load data"
      ],
      "metadata": {
        "id": "9ySgv4Kb70bl"
      }
    },
    {
      "cell_type": "code",
      "source": [
        "df = pd.read_csv(\"https://archive.ics.uci.edu/ml/machine-learning-databases/wine-quality/winequality-red.csv\", sep = ';')\n",
        "df.head()"
      ],
      "metadata": {
        "colab": {
          "base_uri": "https://localhost:8080/"
        },
        "id": "Ntzbpil8I94o",
        "outputId": "f6acd9b3-51d2-4e54-92d9-3344a997b37e"
      },
      "execution_count": null,
      "outputs": [
        {
          "output_type": "execute_result",
          "data": {
            "text/plain": [
              "   fixed acidity  volatile acidity  citric acid  residual sugar  chlorides  \\\n",
              "0            7.4              0.70         0.00             1.9      0.076   \n",
              "1            7.8              0.88         0.00             2.6      0.098   \n",
              "2            7.8              0.76         0.04             2.3      0.092   \n",
              "3           11.2              0.28         0.56             1.9      0.075   \n",
              "4            7.4              0.70         0.00             1.9      0.076   \n",
              "\n",
              "   free sulfur dioxide  total sulfur dioxide  density    pH  sulphates  \\\n",
              "0                 11.0                  34.0   0.9978  3.51       0.56   \n",
              "1                 25.0                  67.0   0.9968  3.20       0.68   \n",
              "2                 15.0                  54.0   0.9970  3.26       0.65   \n",
              "3                 17.0                  60.0   0.9980  3.16       0.58   \n",
              "4                 11.0                  34.0   0.9978  3.51       0.56   \n",
              "\n",
              "   alcohol  quality  \n",
              "0      9.4        5  \n",
              "1      9.8        5  \n",
              "2      9.8        5  \n",
              "3      9.8        6  \n",
              "4      9.4        5  "
            ],
            "text/html": [
              "\n",
              "  <div id=\"df-cb2d605b-ab06-47b5-acdd-df97a26396a9\">\n",
              "    <div class=\"colab-df-container\">\n",
              "      <div>\n",
              "<style scoped>\n",
              "    .dataframe tbody tr th:only-of-type {\n",
              "        vertical-align: middle;\n",
              "    }\n",
              "\n",
              "    .dataframe tbody tr th {\n",
              "        vertical-align: top;\n",
              "    }\n",
              "\n",
              "    .dataframe thead th {\n",
              "        text-align: right;\n",
              "    }\n",
              "</style>\n",
              "<table border=\"1\" class=\"dataframe\">\n",
              "  <thead>\n",
              "    <tr style=\"text-align: right;\">\n",
              "      <th></th>\n",
              "      <th>fixed acidity</th>\n",
              "      <th>volatile acidity</th>\n",
              "      <th>citric acid</th>\n",
              "      <th>residual sugar</th>\n",
              "      <th>chlorides</th>\n",
              "      <th>free sulfur dioxide</th>\n",
              "      <th>total sulfur dioxide</th>\n",
              "      <th>density</th>\n",
              "      <th>pH</th>\n",
              "      <th>sulphates</th>\n",
              "      <th>alcohol</th>\n",
              "      <th>quality</th>\n",
              "    </tr>\n",
              "  </thead>\n",
              "  <tbody>\n",
              "    <tr>\n",
              "      <th>0</th>\n",
              "      <td>7.4</td>\n",
              "      <td>0.70</td>\n",
              "      <td>0.00</td>\n",
              "      <td>1.9</td>\n",
              "      <td>0.076</td>\n",
              "      <td>11.0</td>\n",
              "      <td>34.0</td>\n",
              "      <td>0.9978</td>\n",
              "      <td>3.51</td>\n",
              "      <td>0.56</td>\n",
              "      <td>9.4</td>\n",
              "      <td>5</td>\n",
              "    </tr>\n",
              "    <tr>\n",
              "      <th>1</th>\n",
              "      <td>7.8</td>\n",
              "      <td>0.88</td>\n",
              "      <td>0.00</td>\n",
              "      <td>2.6</td>\n",
              "      <td>0.098</td>\n",
              "      <td>25.0</td>\n",
              "      <td>67.0</td>\n",
              "      <td>0.9968</td>\n",
              "      <td>3.20</td>\n",
              "      <td>0.68</td>\n",
              "      <td>9.8</td>\n",
              "      <td>5</td>\n",
              "    </tr>\n",
              "    <tr>\n",
              "      <th>2</th>\n",
              "      <td>7.8</td>\n",
              "      <td>0.76</td>\n",
              "      <td>0.04</td>\n",
              "      <td>2.3</td>\n",
              "      <td>0.092</td>\n",
              "      <td>15.0</td>\n",
              "      <td>54.0</td>\n",
              "      <td>0.9970</td>\n",
              "      <td>3.26</td>\n",
              "      <td>0.65</td>\n",
              "      <td>9.8</td>\n",
              "      <td>5</td>\n",
              "    </tr>\n",
              "    <tr>\n",
              "      <th>3</th>\n",
              "      <td>11.2</td>\n",
              "      <td>0.28</td>\n",
              "      <td>0.56</td>\n",
              "      <td>1.9</td>\n",
              "      <td>0.075</td>\n",
              "      <td>17.0</td>\n",
              "      <td>60.0</td>\n",
              "      <td>0.9980</td>\n",
              "      <td>3.16</td>\n",
              "      <td>0.58</td>\n",
              "      <td>9.8</td>\n",
              "      <td>6</td>\n",
              "    </tr>\n",
              "    <tr>\n",
              "      <th>4</th>\n",
              "      <td>7.4</td>\n",
              "      <td>0.70</td>\n",
              "      <td>0.00</td>\n",
              "      <td>1.9</td>\n",
              "      <td>0.076</td>\n",
              "      <td>11.0</td>\n",
              "      <td>34.0</td>\n",
              "      <td>0.9978</td>\n",
              "      <td>3.51</td>\n",
              "      <td>0.56</td>\n",
              "      <td>9.4</td>\n",
              "      <td>5</td>\n",
              "    </tr>\n",
              "  </tbody>\n",
              "</table>\n",
              "</div>\n",
              "      <button class=\"colab-df-convert\" onclick=\"convertToInteractive('df-cb2d605b-ab06-47b5-acdd-df97a26396a9')\"\n",
              "              title=\"Convert this dataframe to an interactive table.\"\n",
              "              style=\"display:none;\">\n",
              "        \n",
              "  <svg xmlns=\"http://www.w3.org/2000/svg\" height=\"24px\"viewBox=\"0 0 24 24\"\n",
              "       width=\"24px\">\n",
              "    <path d=\"M0 0h24v24H0V0z\" fill=\"none\"/>\n",
              "    <path d=\"M18.56 5.44l.94 2.06.94-2.06 2.06-.94-2.06-.94-.94-2.06-.94 2.06-2.06.94zm-11 1L8.5 8.5l.94-2.06 2.06-.94-2.06-.94L8.5 2.5l-.94 2.06-2.06.94zm10 10l.94 2.06.94-2.06 2.06-.94-2.06-.94-.94-2.06-.94 2.06-2.06.94z\"/><path d=\"M17.41 7.96l-1.37-1.37c-.4-.4-.92-.59-1.43-.59-.52 0-1.04.2-1.43.59L10.3 9.45l-7.72 7.72c-.78.78-.78 2.05 0 2.83L4 21.41c.39.39.9.59 1.41.59.51 0 1.02-.2 1.41-.59l7.78-7.78 2.81-2.81c.8-.78.8-2.07 0-2.86zM5.41 20L4 18.59l7.72-7.72 1.47 1.35L5.41 20z\"/>\n",
              "  </svg>\n",
              "      </button>\n",
              "      \n",
              "  <style>\n",
              "    .colab-df-container {\n",
              "      display:flex;\n",
              "      flex-wrap:wrap;\n",
              "      gap: 12px;\n",
              "    }\n",
              "\n",
              "    .colab-df-convert {\n",
              "      background-color: #E8F0FE;\n",
              "      border: none;\n",
              "      border-radius: 50%;\n",
              "      cursor: pointer;\n",
              "      display: none;\n",
              "      fill: #1967D2;\n",
              "      height: 32px;\n",
              "      padding: 0 0 0 0;\n",
              "      width: 32px;\n",
              "    }\n",
              "\n",
              "    .colab-df-convert:hover {\n",
              "      background-color: #E2EBFA;\n",
              "      box-shadow: 0px 1px 2px rgba(60, 64, 67, 0.3), 0px 1px 3px 1px rgba(60, 64, 67, 0.15);\n",
              "      fill: #174EA6;\n",
              "    }\n",
              "\n",
              "    [theme=dark] .colab-df-convert {\n",
              "      background-color: #3B4455;\n",
              "      fill: #D2E3FC;\n",
              "    }\n",
              "\n",
              "    [theme=dark] .colab-df-convert:hover {\n",
              "      background-color: #434B5C;\n",
              "      box-shadow: 0px 1px 3px 1px rgba(0, 0, 0, 0.15);\n",
              "      filter: drop-shadow(0px 1px 2px rgba(0, 0, 0, 0.3));\n",
              "      fill: #FFFFFF;\n",
              "    }\n",
              "  </style>\n",
              "\n",
              "      <script>\n",
              "        const buttonEl =\n",
              "          document.querySelector('#df-cb2d605b-ab06-47b5-acdd-df97a26396a9 button.colab-df-convert');\n",
              "        buttonEl.style.display =\n",
              "          google.colab.kernel.accessAllowed ? 'block' : 'none';\n",
              "\n",
              "        async function convertToInteractive(key) {\n",
              "          const element = document.querySelector('#df-cb2d605b-ab06-47b5-acdd-df97a26396a9');\n",
              "          const dataTable =\n",
              "            await google.colab.kernel.invokeFunction('convertToInteractive',\n",
              "                                                     [key], {});\n",
              "          if (!dataTable) return;\n",
              "\n",
              "          const docLinkHtml = 'Like what you see? Visit the ' +\n",
              "            '<a target=\"_blank\" href=https://colab.research.google.com/notebooks/data_table.ipynb>data table notebook</a>'\n",
              "            + ' to learn more about interactive tables.';\n",
              "          element.innerHTML = '';\n",
              "          dataTable['output_type'] = 'display_data';\n",
              "          await google.colab.output.renderOutput(dataTable, element);\n",
              "          const docLink = document.createElement('div');\n",
              "          docLink.innerHTML = docLinkHtml;\n",
              "          element.appendChild(docLink);\n",
              "        }\n",
              "      </script>\n",
              "    </div>\n",
              "  </div>\n",
              "  "
            ]
          },
          "metadata": {},
          "execution_count": 3
        }
      ]
    },
    {
      "cell_type": "markdown",
      "source": [
        "##Check for Null Values"
      ],
      "metadata": {
        "id": "LgXaA-I2SbJv"
      }
    },
    {
      "cell_type": "code",
      "source": [
        "df.info()"
      ],
      "metadata": {
        "colab": {
          "base_uri": "https://localhost:8080/"
        },
        "id": "y0ugEYDxJ3uk",
        "outputId": "2f1d042c-8032-47a3-9e97-b9b1d13037af"
      },
      "execution_count": null,
      "outputs": [
        {
          "output_type": "stream",
          "name": "stdout",
          "text": [
            "<class 'pandas.core.frame.DataFrame'>\n",
            "RangeIndex: 1599 entries, 0 to 1598\n",
            "Data columns (total 12 columns):\n",
            " #   Column                Non-Null Count  Dtype  \n",
            "---  ------                --------------  -----  \n",
            " 0   fixed acidity         1599 non-null   float64\n",
            " 1   volatile acidity      1599 non-null   float64\n",
            " 2   citric acid           1599 non-null   float64\n",
            " 3   residual sugar        1599 non-null   float64\n",
            " 4   chlorides             1599 non-null   float64\n",
            " 5   free sulfur dioxide   1599 non-null   float64\n",
            " 6   total sulfur dioxide  1599 non-null   float64\n",
            " 7   density               1599 non-null   float64\n",
            " 8   pH                    1599 non-null   float64\n",
            " 9   sulphates             1599 non-null   float64\n",
            " 10  alcohol               1599 non-null   float64\n",
            " 11  quality               1599 non-null   int64  \n",
            "dtypes: float64(11), int64(1)\n",
            "memory usage: 150.0 KB\n"
          ]
        }
      ]
    },
    {
      "cell_type": "code",
      "source": [
        "df.isnull().sum()"
      ],
      "metadata": {
        "colab": {
          "base_uri": "https://localhost:8080/"
        },
        "id": "K2-5CZNhRMDn",
        "outputId": "7cbb0ee4-e7ad-4d9a-eed3-58e4eea970c1"
      },
      "execution_count": null,
      "outputs": [
        {
          "output_type": "execute_result",
          "data": {
            "text/plain": [
              "fixed acidity           0\n",
              "volatile acidity        0\n",
              "citric acid             0\n",
              "residual sugar          0\n",
              "chlorides               0\n",
              "free sulfur dioxide     0\n",
              "total sulfur dioxide    0\n",
              "density                 0\n",
              "pH                      0\n",
              "sulphates               0\n",
              "alcohol                 0\n",
              "quality                 0\n",
              "dtype: int64"
            ]
          },
          "metadata": {},
          "execution_count": 5
        }
      ]
    },
    {
      "cell_type": "markdown",
      "source": [
        "No null values in dataset"
      ],
      "metadata": {
        "id": "n2Pi_7gCTp9T"
      }
    },
    {
      "cell_type": "markdown",
      "source": [
        "##Check and Handle Outliers"
      ],
      "metadata": {
        "id": "eGUokxpoSpgx"
      }
    },
    {
      "cell_type": "markdown",
      "source": [
        "###Check first variable **[Fixed Acidity]** for outliers"
      ],
      "metadata": {
        "id": "14ui84tFUa0F"
      }
    },
    {
      "cell_type": "code",
      "source": [
        "df['fixed acidity'].plot(kind='box', vert=False, color='blue',\n",
        "                        figsize=(10,5))\n",
        "\n",
        "plt.xlabel('fixed acidity')\n",
        "plt.show()"
      ],
      "metadata": {
        "colab": {
          "base_uri": "https://localhost:8080/"
        },
        "id": "hxQJL1piyyiL",
        "outputId": "2002613d-ce4d-4b79-cb15-94ecce4e9f12"
      },
      "execution_count": null,
      "outputs": [
        {
          "output_type": "display_data",
          "data": {
            "text/plain": [
              "<Figure size 720x360 with 1 Axes>"
            ],
            "image/png": "[encoded data removed]"
          },
          "metadata": {
            "needs_background": "light"
          }
        }
      ]
    },
    {
      "cell_type": "markdown",
      "source": [
        "Outliers found"
      ],
      "metadata": {
        "id": "HI2-x5SIdx9U"
      }
    },
    {
      "cell_type": "markdown",
      "source": [
        "####Handling Outliers"
      ],
      "metadata": {
        "id": "rnq7qTjUd-Df"
      }
    },
    {
      "cell_type": "code",
      "source": [
        "df['fixed acidity'].describe()"
      ],
      "metadata": {
        "colab": {
          "base_uri": "https://localhost:8080/"
        },
        "id": "VDvGpzJ9eCL_",
        "outputId": "5d7f9367-a80f-4f3b-909e-3f0e050838d4"
      },
      "execution_count": null,
      "outputs": [
        {
          "output_type": "execute_result",
          "data": {
            "text/plain": [
              "count    1599.000000\n",
              "mean        8.319637\n",
              "std         1.741096\n",
              "min         4.600000\n",
              "25%         7.100000\n",
              "50%         7.900000\n",
              "75%         9.200000\n",
              "max        15.900000\n",
              "Name: fixed acidity, dtype: float64"
            ]
          },
          "metadata": {},
          "execution_count": 7
        }
      ]
    },
    {
      "cell_type": "code",
      "source": [
        "upperQ = df['fixed acidity'].quantile(q=0.75)\n",
        "lowerQ = df['fixed acidity'].quantile(q = 0.25)\n",
        "outlierBound = (upperQ - lowerQ)*1.5\n",
        "df[(df['fixed acidity'] > (upperQ + outlierBound)) | (df['fixed acidity'] < (lowerQ - outlierBound))].count()"
      ],
      "metadata": {
        "colab": {
          "base_uri": "https://localhost:8080/"
        },
        "id": "5xSmm7J8e1RU",
        "outputId": "20060281-cc51-41b9-e309-afbcb2031a56"
      },
      "execution_count": null,
      "outputs": [
        {
          "output_type": "execute_result",
          "data": {
            "text/plain": [
              "fixed acidity           49\n",
              "volatile acidity        49\n",
              "citric acid             49\n",
              "residual sugar          49\n",
              "chlorides               49\n",
              "free sulfur dioxide     49\n",
              "total sulfur dioxide    49\n",
              "density                 49\n",
              "pH                      49\n",
              "sulphates               49\n",
              "alcohol                 49\n",
              "quality                 49\n",
              "dtype: int64"
            ]
          },
          "metadata": {},
          "execution_count": 8
        }
      ]
    },
    {
      "cell_type": "code",
      "source": [
        "df.loc[df['fixed acidity'] > (upperQ + outlierBound), 'fixed acidity'] = upperQ + outlierBound\n",
        "df.loc[df['fixed acidity'] < (lowerQ - outlierBound), 'fixed acidity'] = lowerQ - outlierBound\n",
        "df[(df['fixed acidity'] > (upperQ + outlierBound)) | (df['fixed acidity'] < (lowerQ - outlierBound))].count()"
      ],
      "metadata": {
        "colab": {
          "base_uri": "https://localhost:8080/"
        },
        "id": "9Pl1M4B_fqKQ",
        "outputId": "63429e06-4f61-4d6f-a4b7-8f9bbba33e86"
      },
      "execution_count": null,
      "outputs": [
        {
          "output_type": "execute_result",
          "data": {
            "text/plain": [
              "fixed acidity           0\n",
              "volatile acidity        0\n",
              "citric acid             0\n",
              "residual sugar          0\n",
              "chlorides               0\n",
              "free sulfur dioxide     0\n",
              "total sulfur dioxide    0\n",
              "density                 0\n",
              "pH                      0\n",
              "sulphates               0\n",
              "alcohol                 0\n",
              "quality                 0\n",
              "dtype: int64"
            ]
          },
          "metadata": {},
          "execution_count": 9
        }
      ]
    },
    {
      "cell_type": "markdown",
      "source": [
        "Outliers have been handled"
      ],
      "metadata": {
        "id": "rG8WYJDtfyOA"
      }
    },
    {
      "cell_type": "markdown",
      "source": [
        "###Check second variable **[volatile acidity]** for outliers"
      ],
      "metadata": {
        "id": "LhNqlOXIzezw"
      }
    },
    {
      "cell_type": "code",
      "source": [
        "df['volatile acidity'].plot(kind='box', vert=False, color='blue',\n",
        "                        figsize=(10,5))\n",
        "\n",
        "plt.xlabel('volatile acidity')\n",
        "plt.show()"
      ],
      "metadata": {
        "colab": {
          "base_uri": "https://localhost:8080/"
        },
        "id": "TXxFXpw8z1SY",
        "outputId": "1055fef3-7301-4dc8-891f-37dba99aae76"
      },
      "execution_count": null,
      "outputs": [
        {
          "output_type": "display_data",
          "data": {
            "text/plain": [
              "<Figure size 720x360 with 1 Axes>"
            ],
            "image/png": "[encoded data removed]"
          },
          "metadata": {
            "needs_background": "light"
          }
        }
      ]
    },
    {
      "cell_type": "markdown",
      "source": [
        "Outliers found"
      ],
      "metadata": {
        "id": "Wl6pd0EO0XLr"
      }
    },
    {
      "cell_type": "markdown",
      "source": [
        "####Handling Outliers"
      ],
      "metadata": {
        "id": "PcfIIvkQbWEh"
      }
    },
    {
      "cell_type": "code",
      "source": [
        "df['volatile acidity'].describe()"
      ],
      "metadata": {
        "colab": {
          "base_uri": "https://localhost:8080/"
        },
        "id": "-PxDO260bYnJ",
        "outputId": "6b1dec72-806c-4031-de33-4b8ee9c839a7"
      },
      "execution_count": null,
      "outputs": [
        {
          "output_type": "execute_result",
          "data": {
            "text/plain": [
              "count    1599.000000\n",
              "mean        0.527821\n",
              "std         0.179060\n",
              "min         0.120000\n",
              "25%         0.390000\n",
              "50%         0.520000\n",
              "75%         0.640000\n",
              "max         1.580000\n",
              "Name: volatile acidity, dtype: float64"
            ]
          },
          "metadata": {},
          "execution_count": 11
        }
      ]
    },
    {
      "cell_type": "code",
      "source": [
        "upperQ = df['volatile acidity'].quantile(q=0.75)\n",
        "lowerQ = df['volatile acidity'].quantile(q = 0.25)\n",
        "outlierBound = (upperQ - lowerQ)*1.5\n",
        "df[(df['volatile acidity'] > (upperQ + outlierBound)) | (df['volatile acidity'] < (lowerQ - outlierBound))].count()"
      ],
      "metadata": {
        "colab": {
          "base_uri": "https://localhost:8080/"
        },
        "id": "QqEsxQtkbZCq",
        "outputId": "0c6604c2-7ece-4a70-ffb3-9cbd90cff95c"
      },
      "execution_count": null,
      "outputs": [
        {
          "output_type": "execute_result",
          "data": {
            "text/plain": [
              "fixed acidity           19\n",
              "volatile acidity        19\n",
              "citric acid             19\n",
              "residual sugar          19\n",
              "chlorides               19\n",
              "free sulfur dioxide     19\n",
              "total sulfur dioxide    19\n",
              "density                 19\n",
              "pH                      19\n",
              "sulphates               19\n",
              "alcohol                 19\n",
              "quality                 19\n",
              "dtype: int64"
            ]
          },
          "metadata": {},
          "execution_count": 12
        }
      ]
    },
    {
      "cell_type": "code",
      "source": [
        "df.loc[df['volatile acidity'] > (upperQ + outlierBound), 'volatile acidity'] = upperQ + outlierBound\n",
        "df.loc[df['volatile acidity'] < (lowerQ - outlierBound), 'volatile acidity'] = lowerQ - outlierBound\n",
        "df[(df['volatile acidity'] > (upperQ + outlierBound)) | (df['volatile acidity'] < (lowerQ - outlierBound))].count()"
      ],
      "metadata": {
        "colab": {
          "base_uri": "https://localhost:8080/"
        },
        "id": "YPW9-3AxcIge",
        "outputId": "065d128d-5922-4197-e569-563e7deccf3b"
      },
      "execution_count": null,
      "outputs": [
        {
          "output_type": "execute_result",
          "data": {
            "text/plain": [
              "fixed acidity           0\n",
              "volatile acidity        0\n",
              "citric acid             0\n",
              "residual sugar          0\n",
              "chlorides               0\n",
              "free sulfur dioxide     0\n",
              "total sulfur dioxide    0\n",
              "density                 0\n",
              "pH                      0\n",
              "sulphates               0\n",
              "alcohol                 0\n",
              "quality                 0\n",
              "dtype: int64"
            ]
          },
          "metadata": {},
          "execution_count": 13
        }
      ]
    },
    {
      "cell_type": "markdown",
      "source": [
        "Outliers have been handled"
      ],
      "metadata": {
        "id": "u-aC0JLfg5b9"
      }
    },
    {
      "cell_type": "markdown",
      "source": [
        "###Check third variable **[citric acid]** for outliers"
      ],
      "metadata": {
        "id": "8u_mZerS0YCP"
      }
    },
    {
      "cell_type": "code",
      "source": [
        "df['citric acid'].plot(kind='box', vert=False, color='blue',\n",
        "                        figsize=(10,5))\n",
        "\n",
        "plt.xlabel('citric acid')\n",
        "plt.show()"
      ],
      "metadata": {
        "colab": {
          "base_uri": "https://localhost:8080/"
        },
        "id": "0R7z7RVt0whQ",
        "outputId": "17962665-0ec8-4dd9-b08b-0d4199a7f739"
      },
      "execution_count": null,
      "outputs": [
        {
          "output_type": "display_data",
          "data": {
            "text/plain": [
              "<Figure size 720x360 with 1 Axes>"
            ],
            "image/png": "[encoded data removed]"
          },
          "metadata": {
            "needs_background": "light"
          }
        }
      ]
    },
    {
      "cell_type": "markdown",
      "source": [
        "Outliers found"
      ],
      "metadata": {
        "id": "dEM6C0z01qaY"
      }
    },
    {
      "cell_type": "markdown",
      "source": [
        "####Handling Outliers"
      ],
      "metadata": {
        "id": "-T0fsb9jhKWt"
      }
    },
    {
      "cell_type": "code",
      "source": [
        "df['citric acid'].describe()"
      ],
      "metadata": {
        "colab": {
          "base_uri": "https://localhost:8080/"
        },
        "id": "HJvmmd75hMc2",
        "outputId": "2115f387-a6bb-4850-ee3c-e9842440f5dc"
      },
      "execution_count": null,
      "outputs": [
        {
          "output_type": "execute_result",
          "data": {
            "text/plain": [
              "count    1599.000000\n",
              "mean        0.270976\n",
              "std         0.194801\n",
              "min         0.000000\n",
              "25%         0.090000\n",
              "50%         0.260000\n",
              "75%         0.420000\n",
              "max         1.000000\n",
              "Name: citric acid, dtype: float64"
            ]
          },
          "metadata": {},
          "execution_count": 15
        }
      ]
    },
    {
      "cell_type": "code",
      "source": [
        "upperQ = df['citric acid'].quantile(q=0.75)\n",
        "lowerQ = df['citric acid'].quantile(q = 0.25)\n",
        "outlierBound = (upperQ - lowerQ)*1.5\n",
        "df[(df['citric acid'] > (upperQ + outlierBound)) | (df['citric acid'] < (lowerQ - outlierBound))].count()"
      ],
      "metadata": {
        "colab": {
          "base_uri": "https://localhost:8080/"
        },
        "id": "6NSpr-Zzhax-",
        "outputId": "d6927061-e105-4aa3-e586-6637b8317250"
      },
      "execution_count": null,
      "outputs": [
        {
          "output_type": "execute_result",
          "data": {
            "text/plain": [
              "fixed acidity           1\n",
              "volatile acidity        1\n",
              "citric acid             1\n",
              "residual sugar          1\n",
              "chlorides               1\n",
              "free sulfur dioxide     1\n",
              "total sulfur dioxide    1\n",
              "density                 1\n",
              "pH                      1\n",
              "sulphates               1\n",
              "alcohol                 1\n",
              "quality                 1\n",
              "dtype: int64"
            ]
          },
          "metadata": {},
          "execution_count": 16
        }
      ]
    },
    {
      "cell_type": "code",
      "source": [
        "df.loc[df['citric acid'] > (upperQ + outlierBound), 'citric acid'] = upperQ + outlierBound\n",
        "df.loc[df['citric acid'] < (lowerQ - outlierBound), 'citric acid'] = lowerQ - outlierBound\n",
        "df[(df['citric acid'] > (upperQ + outlierBound)) | (df['citric acid'] < (lowerQ - outlierBound))].count()"
      ],
      "metadata": {
        "colab": {
          "base_uri": "https://localhost:8080/"
        },
        "id": "p3CoYJXhhk2F",
        "outputId": "426b9c3d-cfed-43a5-9ec0-da210d2af35d"
      },
      "execution_count": null,
      "outputs": [
        {
          "output_type": "execute_result",
          "data": {
            "text/plain": [
              "fixed acidity           0\n",
              "volatile acidity        0\n",
              "citric acid             0\n",
              "residual sugar          0\n",
              "chlorides               0\n",
              "free sulfur dioxide     0\n",
              "total sulfur dioxide    0\n",
              "density                 0\n",
              "pH                      0\n",
              "sulphates               0\n",
              "alcohol                 0\n",
              "quality                 0\n",
              "dtype: int64"
            ]
          },
          "metadata": {},
          "execution_count": 17
        }
      ]
    },
    {
      "cell_type": "markdown",
      "source": [
        "Outliers have been handled"
      ],
      "metadata": {
        "id": "6zDLLr9GhtZ2"
      }
    },
    {
      "cell_type": "markdown",
      "source": [
        "###Check fourth variable **[residual sugar]** for outliers"
      ],
      "metadata": {
        "id": "ZYA8SGBt1uDB"
      }
    },
    {
      "cell_type": "code",
      "source": [
        "df['residual sugar'].plot(kind='box', vert=False, color='blue',\n",
        "                        figsize=(10,5))\n",
        "\n",
        "plt.xlabel('residual sugar')\n",
        "plt.show()"
      ],
      "metadata": {
        "colab": {
          "base_uri": "https://localhost:8080/"
        },
        "id": "KAPAFZEh3h3z",
        "outputId": "1ca73e3c-fe25-4320-f68c-3f98789f937b"
      },
      "execution_count": null,
      "outputs": [
        {
          "output_type": "display_data",
          "data": {
            "text/plain": [
              "<Figure size 720x360 with 1 Axes>"
            ],
            "image/png": "[encoded data removed]"
          },
          "metadata": {
            "needs_background": "light"
          }
        }
      ]
    },
    {
      "cell_type": "markdown",
      "source": [
        "Outliers found"
      ],
      "metadata": {
        "id": "d0SmMDwh6FPP"
      }
    },
    {
      "cell_type": "markdown",
      "source": [
        "####Handling outliers"
      ],
      "metadata": {
        "id": "f3VTjm6L6Iu_"
      }
    },
    {
      "cell_type": "code",
      "source": [
        "df['residual sugar'].describe()"
      ],
      "metadata": {
        "colab": {
          "base_uri": "https://localhost:8080/"
        },
        "id": "ziXYNOFr3rnB",
        "outputId": "fffd4ad9-7497-4156-d063-312a967e9996"
      },
      "execution_count": null,
      "outputs": [
        {
          "output_type": "execute_result",
          "data": {
            "text/plain": [
              "count    1599.000000\n",
              "mean        2.538806\n",
              "std         1.409928\n",
              "min         0.900000\n",
              "25%         1.900000\n",
              "50%         2.200000\n",
              "75%         2.600000\n",
              "max        15.500000\n",
              "Name: residual sugar, dtype: float64"
            ]
          },
          "metadata": {},
          "execution_count": 19
        }
      ]
    },
    {
      "cell_type": "code",
      "source": [
        "upperQ = df['residual sugar'].quantile(q=0.75)\n",
        "lowerQ = df['residual sugar'].quantile(q = 0.25)\n",
        "outlierBound = (upperQ - lowerQ)*1.5\n",
        "df[(df['residual sugar'] > (upperQ + outlierBound)) | (df['residual sugar'] < (lowerQ - outlierBound))].count()"
      ],
      "metadata": {
        "colab": {
          "base_uri": "https://localhost:8080/"
        },
        "id": "KGBn2CZA4RmH",
        "outputId": "d5647571-3089-403d-8e94-d7e4ea1255ff"
      },
      "execution_count": null,
      "outputs": [
        {
          "output_type": "execute_result",
          "data": {
            "text/plain": [
              "fixed acidity           155\n",
              "volatile acidity        155\n",
              "citric acid             155\n",
              "residual sugar          155\n",
              "chlorides               155\n",
              "free sulfur dioxide     155\n",
              "total sulfur dioxide    155\n",
              "density                 155\n",
              "pH                      155\n",
              "sulphates               155\n",
              "alcohol                 155\n",
              "quality                 155\n",
              "dtype: int64"
            ]
          },
          "metadata": {},
          "execution_count": 20
        }
      ]
    },
    {
      "cell_type": "code",
      "source": [
        "df.loc[df['residual sugar'] > (upperQ + outlierBound), 'residual sugar'] = upperQ + outlierBound\n",
        "df.loc[df['residual sugar'] < (lowerQ - outlierBound), 'residual sugar'] = lowerQ - outlierBound\n",
        "df[(df['residual sugar'] > (upperQ + outlierBound)) | (df['residual sugar'] < (lowerQ - outlierBound))].count()"
      ],
      "metadata": {
        "colab": {
          "base_uri": "https://localhost:8080/"
        },
        "id": "5tHlcqUH5vj9",
        "outputId": "9ae973ef-51c4-4733-886b-4e3b1da6444b"
      },
      "execution_count": null,
      "outputs": [
        {
          "output_type": "execute_result",
          "data": {
            "text/plain": [
              "fixed acidity           0\n",
              "volatile acidity        0\n",
              "citric acid             0\n",
              "residual sugar          0\n",
              "chlorides               0\n",
              "free sulfur dioxide     0\n",
              "total sulfur dioxide    0\n",
              "density                 0\n",
              "pH                      0\n",
              "sulphates               0\n",
              "alcohol                 0\n",
              "quality                 0\n",
              "dtype: int64"
            ]
          },
          "metadata": {},
          "execution_count": 21
        }
      ]
    },
    {
      "cell_type": "markdown",
      "source": [
        "Outliers have been handled"
      ],
      "metadata": {
        "id": "ne1QRx1c6d2W"
      }
    },
    {
      "cell_type": "markdown",
      "source": [
        "###Check fifth variable **[chlorides]** for outliers"
      ],
      "metadata": {
        "id": "hEUIe4yt6hNO"
      }
    },
    {
      "cell_type": "code",
      "source": [
        "df['chlorides'].plot(kind='box', vert=False, color='blue',\n",
        "                        figsize=(10,5))\n",
        "\n",
        "plt.xlabel('chlorides')\n",
        "plt.show()"
      ],
      "metadata": {
        "colab": {
          "base_uri": "https://localhost:8080/"
        },
        "id": "msUnzZZ969Qr",
        "outputId": "554e56aa-adcb-40a0-bdac-75e4489541c2"
      },
      "execution_count": null,
      "outputs": [
        {
          "output_type": "display_data",
          "data": {
            "text/plain": [
              "<Figure size 720x360 with 1 Axes>"
            ],
            "image/png": "[encoded data removed]"
          },
          "metadata": {
            "needs_background": "light"
          }
        }
      ]
    },
    {
      "cell_type": "markdown",
      "source": [
        "Outliers found"
      ],
      "metadata": {
        "id": "smq94ngD7I9d"
      }
    },
    {
      "cell_type": "markdown",
      "source": [
        "####Handling Outliers"
      ],
      "metadata": {
        "id": "X9i2wuAY7FW0"
      }
    },
    {
      "cell_type": "code",
      "source": [
        "df['chlorides'].describe()"
      ],
      "metadata": {
        "colab": {
          "base_uri": "https://localhost:8080/"
        },
        "id": "LlbRJyrn7HTn",
        "outputId": "fdfe33da-6306-4864-bf86-04d0334e9d90"
      },
      "execution_count": null,
      "outputs": [
        {
          "output_type": "execute_result",
          "data": {
            "text/plain": [
              "count    1599.000000\n",
              "mean        0.087467\n",
              "std         0.047065\n",
              "min         0.012000\n",
              "25%         0.070000\n",
              "50%         0.079000\n",
              "75%         0.090000\n",
              "max         0.611000\n",
              "Name: chlorides, dtype: float64"
            ]
          },
          "metadata": {},
          "execution_count": 23
        }
      ]
    },
    {
      "cell_type": "code",
      "source": [
        "upperQ = df['chlorides'].quantile(q=0.75)\n",
        "lowerQ = df['chlorides'].quantile(q = 0.25)\n",
        "outlierBound = (upperQ - lowerQ)*1.5\n",
        "df[(df['chlorides'] > (upperQ + outlierBound)) | (df['chlorides'] < (lowerQ - outlierBound))].count()"
      ],
      "metadata": {
        "colab": {
          "base_uri": "https://localhost:8080/"
        },
        "id": "eFKXatBf7ZhZ",
        "outputId": "09835edc-0a74-4cc4-b44d-86ae76cd7bb8"
      },
      "execution_count": null,
      "outputs": [
        {
          "output_type": "execute_result",
          "data": {
            "text/plain": [
              "fixed acidity           112\n",
              "volatile acidity        112\n",
              "citric acid             112\n",
              "residual sugar          112\n",
              "chlorides               112\n",
              "free sulfur dioxide     112\n",
              "total sulfur dioxide    112\n",
              "density                 112\n",
              "pH                      112\n",
              "sulphates               112\n",
              "alcohol                 112\n",
              "quality                 112\n",
              "dtype: int64"
            ]
          },
          "metadata": {},
          "execution_count": 24
        }
      ]
    },
    {
      "cell_type": "code",
      "source": [
        "df.loc[df['chlorides'] > (upperQ + outlierBound), 'chlorides'] = upperQ + outlierBound\n",
        "df.loc[df['chlorides'] < (lowerQ - outlierBound), 'chlorides'] = lowerQ - outlierBound\n",
        "df[(df['chlorides'] > (upperQ + outlierBound)) | (df['chlorides'] < (lowerQ - outlierBound))].count()"
      ],
      "metadata": {
        "colab": {
          "base_uri": "https://localhost:8080/"
        },
        "id": "z9iBwHuj7pdA",
        "outputId": "9af233a6-abc8-47a2-87fd-07394075326e"
      },
      "execution_count": null,
      "outputs": [
        {
          "output_type": "execute_result",
          "data": {
            "text/plain": [
              "fixed acidity           0\n",
              "volatile acidity        0\n",
              "citric acid             0\n",
              "residual sugar          0\n",
              "chlorides               0\n",
              "free sulfur dioxide     0\n",
              "total sulfur dioxide    0\n",
              "density                 0\n",
              "pH                      0\n",
              "sulphates               0\n",
              "alcohol                 0\n",
              "quality                 0\n",
              "dtype: int64"
            ]
          },
          "metadata": {},
          "execution_count": 25
        }
      ]
    },
    {
      "cell_type": "markdown",
      "source": [
        "Outliers have been handled"
      ],
      "metadata": {
        "id": "5Ee_6ruO8KbZ"
      }
    },
    {
      "cell_type": "markdown",
      "source": [
        "###Check sixth variable **[free sulfur dioxide]** for outliers"
      ],
      "metadata": {
        "id": "7hV2gANU8PJu"
      }
    },
    {
      "cell_type": "code",
      "source": [
        "df['free sulfur dioxide'].plot(kind='box', vert=False, color='blue',\n",
        "                        figsize=(10,5))\n",
        "\n",
        "plt.xlabel('free sulfur dioxide')\n",
        "plt.show()"
      ],
      "metadata": {
        "colab": {
          "base_uri": "https://localhost:8080/"
        },
        "id": "Kbi_gL3l9Zb-",
        "outputId": "6ab7b3a5-d8e1-4379-b786-aea299e7d897"
      },
      "execution_count": null,
      "outputs": [
        {
          "output_type": "display_data",
          "data": {
            "text/plain": [
              "<Figure size 720x360 with 1 Axes>"
            ],
            "image/png": "[encoded data removed]"
          },
          "metadata": {
            "needs_background": "light"
          }
        }
      ]
    },
    {
      "cell_type": "markdown",
      "source": [
        "Outliers found "
      ],
      "metadata": {
        "id": "35r5ARJ4YssD"
      }
    },
    {
      "cell_type": "markdown",
      "source": [
        "####Handling Outliers"
      ],
      "metadata": {
        "id": "X1N_ChY2YpOa"
      }
    },
    {
      "cell_type": "code",
      "source": [
        "df['free sulfur dioxide'].describe()"
      ],
      "metadata": {
        "colab": {
          "base_uri": "https://localhost:8080/"
        },
        "id": "Ak-CkgbhVrs-",
        "outputId": "feb2bf40-ab10-44b4-8e1c-0c06b33400a2"
      },
      "execution_count": null,
      "outputs": [
        {
          "output_type": "execute_result",
          "data": {
            "text/plain": [
              "count    1599.000000\n",
              "mean       15.874922\n",
              "std        10.460157\n",
              "min         1.000000\n",
              "25%         7.000000\n",
              "50%        14.000000\n",
              "75%        21.000000\n",
              "max        72.000000\n",
              "Name: free sulfur dioxide, dtype: float64"
            ]
          },
          "metadata": {},
          "execution_count": 27
        }
      ]
    },
    {
      "cell_type": "code",
      "source": [
        "upperQ = df['free sulfur dioxide'].quantile(q=0.75)\n",
        "lowerQ = df['free sulfur dioxide'].quantile(q = 0.25)\n",
        "outlierBound = (upperQ - lowerQ)*1.5\n",
        "df[(df['free sulfur dioxide'] > (upperQ + outlierBound)) | (df['free sulfur dioxide'] < (lowerQ - outlierBound))].count()"
      ],
      "metadata": {
        "colab": {
          "base_uri": "https://localhost:8080/"
        },
        "id": "HLsdZGvjXoT5",
        "outputId": "7ebf87f6-356b-4bb2-a6de-fa956bf4a2a8"
      },
      "execution_count": null,
      "outputs": [
        {
          "output_type": "execute_result",
          "data": {
            "text/plain": [
              "fixed acidity           30\n",
              "volatile acidity        30\n",
              "citric acid             30\n",
              "residual sugar          30\n",
              "chlorides               30\n",
              "free sulfur dioxide     30\n",
              "total sulfur dioxide    30\n",
              "density                 30\n",
              "pH                      30\n",
              "sulphates               30\n",
              "alcohol                 30\n",
              "quality                 30\n",
              "dtype: int64"
            ]
          },
          "metadata": {},
          "execution_count": 28
        }
      ]
    },
    {
      "cell_type": "code",
      "source": [
        "df.loc[df['free sulfur dioxide'] > (upperQ + outlierBound), 'free sulfur dioxide'] = upperQ + outlierBound\n",
        "df.loc[df['free sulfur dioxide'] < (lowerQ - outlierBound), 'free sulfur dioxide'] = lowerQ - outlierBound\n",
        "df[(df['free sulfur dioxide'] > (upperQ + outlierBound)) | (df['free sulfur dioxide'] < (lowerQ - outlierBound))].count()"
      ],
      "metadata": {
        "colab": {
          "base_uri": "https://localhost:8080/"
        },
        "id": "SIShVkaQX80y",
        "outputId": "86732003-edf9-4852-cccb-68c136c7d8f3"
      },
      "execution_count": null,
      "outputs": [
        {
          "output_type": "execute_result",
          "data": {
            "text/plain": [
              "fixed acidity           0\n",
              "volatile acidity        0\n",
              "citric acid             0\n",
              "residual sugar          0\n",
              "chlorides               0\n",
              "free sulfur dioxide     0\n",
              "total sulfur dioxide    0\n",
              "density                 0\n",
              "pH                      0\n",
              "sulphates               0\n",
              "alcohol                 0\n",
              "quality                 0\n",
              "dtype: int64"
            ]
          },
          "metadata": {},
          "execution_count": 29
        }
      ]
    },
    {
      "cell_type": "markdown",
      "source": [
        "Outliers have been handled"
      ],
      "metadata": {
        "id": "CTmj-KPfYFpW"
      }
    },
    {
      "cell_type": "markdown",
      "source": [
        "###Check seventh variable **[total sulfur dioxide]** for outliers"
      ],
      "metadata": {
        "id": "dylPhs8UYKxe"
      }
    },
    {
      "cell_type": "code",
      "source": [
        "df['total sulfur dioxide'].plot(kind='box', vert=False, color='blue',\n",
        "                        figsize=(10,5))\n",
        "\n",
        "plt.xlabel('total sulfur dioxide')\n",
        "plt.show()"
      ],
      "metadata": {
        "colab": {
          "base_uri": "https://localhost:8080/"
        },
        "id": "Pf0V0b1NYhnL",
        "outputId": "cc137605-a92c-45b3-bb7b-842dd384478b"
      },
      "execution_count": null,
      "outputs": [
        {
          "output_type": "display_data",
          "data": {
            "text/plain": [
              "<Figure size 720x360 with 1 Axes>"
            ],
            "image/png": "[encoded data removed]"
          },
          "metadata": {
            "needs_background": "light"
          }
        }
      ]
    },
    {
      "cell_type": "markdown",
      "source": [
        "Outliers found"
      ],
      "metadata": {
        "id": "Uko8iqS6YziB"
      }
    },
    {
      "cell_type": "markdown",
      "source": [
        "####Handling Outliers"
      ],
      "metadata": {
        "id": "V3cmIjZQY205"
      }
    },
    {
      "cell_type": "code",
      "source": [
        "df['total sulfur dioxide'].describe()"
      ],
      "metadata": {
        "colab": {
          "base_uri": "https://localhost:8080/"
        },
        "id": "M8FVmchlY4vQ",
        "outputId": "3d6fc2f8-be42-4415-bdc6-6e224572613c"
      },
      "execution_count": null,
      "outputs": [
        {
          "output_type": "execute_result",
          "data": {
            "text/plain": [
              "count    1599.000000\n",
              "mean       46.467792\n",
              "std        32.895324\n",
              "min         6.000000\n",
              "25%        22.000000\n",
              "50%        38.000000\n",
              "75%        62.000000\n",
              "max       289.000000\n",
              "Name: total sulfur dioxide, dtype: float64"
            ]
          },
          "metadata": {},
          "execution_count": 31
        }
      ]
    },
    {
      "cell_type": "code",
      "source": [
        "upperQ = df['total sulfur dioxide'].quantile(q=0.75)\n",
        "lowerQ = df['total sulfur dioxide'].quantile(q = 0.25)\n",
        "outlierBound = (upperQ - lowerQ)*1.5\n",
        "df[(df['total sulfur dioxide'] > (upperQ + outlierBound)) | (df['total sulfur dioxide'] < (lowerQ - outlierBound))].count()"
      ],
      "metadata": {
        "colab": {
          "base_uri": "https://localhost:8080/"
        },
        "id": "qVgpbHMPYmh-",
        "outputId": "0cda4dbf-84ae-4dc5-baf9-70d3672db90b"
      },
      "execution_count": null,
      "outputs": [
        {
          "output_type": "execute_result",
          "data": {
            "text/plain": [
              "fixed acidity           55\n",
              "volatile acidity        55\n",
              "citric acid             55\n",
              "residual sugar          55\n",
              "chlorides               55\n",
              "free sulfur dioxide     55\n",
              "total sulfur dioxide    55\n",
              "density                 55\n",
              "pH                      55\n",
              "sulphates               55\n",
              "alcohol                 55\n",
              "quality                 55\n",
              "dtype: int64"
            ]
          },
          "metadata": {},
          "execution_count": 32
        }
      ]
    },
    {
      "cell_type": "code",
      "source": [
        "df.loc[df['total sulfur dioxide'] > (upperQ + outlierBound), 'total sulfur dioxide'] = upperQ + outlierBound\n",
        "df.loc[df['total sulfur dioxide'] < (lowerQ - outlierBound), 'total sulfur dioxide'] = lowerQ - outlierBound\n",
        "df[(df['total sulfur dioxide'] > (upperQ + outlierBound)) | (df['total sulfur dioxide'] < (lowerQ - outlierBound))].count()"
      ],
      "metadata": {
        "colab": {
          "base_uri": "https://localhost:8080/"
        },
        "id": "ZO6sthTAZgqd",
        "outputId": "c9927b96-e718-4483-b925-58cce0175ab9"
      },
      "execution_count": null,
      "outputs": [
        {
          "output_type": "execute_result",
          "data": {
            "text/plain": [
              "fixed acidity           0\n",
              "volatile acidity        0\n",
              "citric acid             0\n",
              "residual sugar          0\n",
              "chlorides               0\n",
              "free sulfur dioxide     0\n",
              "total sulfur dioxide    0\n",
              "density                 0\n",
              "pH                      0\n",
              "sulphates               0\n",
              "alcohol                 0\n",
              "quality                 0\n",
              "dtype: int64"
            ]
          },
          "metadata": {},
          "execution_count": 33
        }
      ]
    },
    {
      "cell_type": "markdown",
      "source": [
        "Outliers have been handled"
      ],
      "metadata": {
        "id": "KcyV09QCZrul"
      }
    },
    {
      "cell_type": "markdown",
      "source": [
        "###Check eighth variable **[density]** for outliers"
      ],
      "metadata": {
        "id": "mKfphwF_q8fx"
      }
    },
    {
      "cell_type": "code",
      "source": [
        "df['density'].plot(kind='box', vert=False, color='blue',\n",
        "                        figsize=(10,5))\n",
        "\n",
        "plt.xlabel('density')\n",
        "plt.show()"
      ],
      "metadata": {
        "colab": {
          "base_uri": "https://localhost:8080/"
        },
        "id": "zFfCF6u8kb7y",
        "outputId": "27c8d1fa-875a-43be-b080-12f8cd5c37c0"
      },
      "execution_count": null,
      "outputs": [
        {
          "output_type": "display_data",
          "data": {
            "text/plain": [
              "<Figure size 720x360 with 1 Axes>"
            ],
            "image/png": "[encoded data removed]"
          },
          "metadata": {
            "needs_background": "light"
          }
        }
      ]
    },
    {
      "cell_type": "markdown",
      "source": [
        "Outliers found"
      ],
      "metadata": {
        "id": "WaLQm1LLk63c"
      }
    },
    {
      "cell_type": "markdown",
      "source": [
        "####Handling Outliers"
      ],
      "metadata": {
        "id": "41hXi-1Vk8br"
      }
    },
    {
      "cell_type": "code",
      "source": [
        "df['density'].describe()"
      ],
      "metadata": {
        "colab": {
          "base_uri": "https://localhost:8080/"
        },
        "id": "diUkcZsBk-Mq",
        "outputId": "eec68c71-b4a8-41db-adb4-8aef2ae938d9"
      },
      "execution_count": null,
      "outputs": [
        {
          "output_type": "execute_result",
          "data": {
            "text/plain": [
              "count    1599.000000\n",
              "mean        0.996747\n",
              "std         0.001887\n",
              "min         0.990070\n",
              "25%         0.995600\n",
              "50%         0.996750\n",
              "75%         0.997835\n",
              "max         1.003690\n",
              "Name: density, dtype: float64"
            ]
          },
          "metadata": {},
          "execution_count": 35
        }
      ]
    },
    {
      "cell_type": "code",
      "source": [
        "upperQ = df['density'].quantile(q=0.75)\n",
        "lowerQ = df['density'].quantile(q = 0.25)\n",
        "outlierBound = (upperQ - lowerQ)*1.5\n",
        "df[(df['density'] > (upperQ + outlierBound)) | (df['density'] < (lowerQ - outlierBound))].count()"
      ],
      "metadata": {
        "colab": {
          "base_uri": "https://localhost:8080/"
        },
        "id": "9CZ4HpwslGPr",
        "outputId": "3eccc6d7-463c-4440-a113-610bfe75b378"
      },
      "execution_count": null,
      "outputs": [
        {
          "output_type": "execute_result",
          "data": {
            "text/plain": [
              "fixed acidity           45\n",
              "volatile acidity        45\n",
              "citric acid             45\n",
              "residual sugar          45\n",
              "chlorides               45\n",
              "free sulfur dioxide     45\n",
              "total sulfur dioxide    45\n",
              "density                 45\n",
              "pH                      45\n",
              "sulphates               45\n",
              "alcohol                 45\n",
              "quality                 45\n",
              "dtype: int64"
            ]
          },
          "metadata": {},
          "execution_count": 36
        }
      ]
    },
    {
      "cell_type": "code",
      "source": [
        "df.loc[df['density'] > (upperQ + outlierBound), 'density'] = upperQ + outlierBound\n",
        "df.loc[df['density'] < (lowerQ - outlierBound), 'density'] = lowerQ - outlierBound\n",
        "df[(df['density'] > (upperQ + outlierBound)) | (df['density'] < (lowerQ - outlierBound))].count()"
      ],
      "metadata": {
        "colab": {
          "base_uri": "https://localhost:8080/"
        },
        "id": "QusOLNkTlOgO",
        "outputId": "73522f95-f38f-4392-a51a-51e6de3b9ce6"
      },
      "execution_count": null,
      "outputs": [
        {
          "output_type": "execute_result",
          "data": {
            "text/plain": [
              "fixed acidity           0\n",
              "volatile acidity        0\n",
              "citric acid             0\n",
              "residual sugar          0\n",
              "chlorides               0\n",
              "free sulfur dioxide     0\n",
              "total sulfur dioxide    0\n",
              "density                 0\n",
              "pH                      0\n",
              "sulphates               0\n",
              "alcohol                 0\n",
              "quality                 0\n",
              "dtype: int64"
            ]
          },
          "metadata": {},
          "execution_count": 37
        }
      ]
    },
    {
      "cell_type": "markdown",
      "source": [
        "Outliers Handled"
      ],
      "metadata": {
        "id": "nF07QvJllbI8"
      }
    },
    {
      "cell_type": "markdown",
      "source": [
        "###Check ninth variable **[pH]** for outliers"
      ],
      "metadata": {
        "id": "IQ4G1KC9ldeX"
      }
    },
    {
      "cell_type": "code",
      "source": [
        "df['pH'].plot(kind='box', vert=False, color='blue',\n",
        "                        figsize=(10,5))\n",
        "\n",
        "plt.xlabel('pH')\n",
        "plt.show()"
      ],
      "metadata": {
        "colab": {
          "base_uri": "https://localhost:8080/"
        },
        "id": "9pD9ZW_vtPuf",
        "outputId": "cb112748-c69c-4a39-f006-f7c30c33db4c"
      },
      "execution_count": null,
      "outputs": [
        {
          "output_type": "display_data",
          "data": {
            "text/plain": [
              "<Figure size 720x360 with 1 Axes>"
            ],
            "image/png": "[encoded data removed]"
          },
          "metadata": {
            "needs_background": "light"
          }
        }
      ]
    },
    {
      "cell_type": "markdown",
      "source": [
        "Outliers found"
      ],
      "metadata": {
        "id": "ws1wRY3ftVo5"
      }
    },
    {
      "cell_type": "markdown",
      "source": [
        "####Handling Outliers"
      ],
      "metadata": {
        "id": "nbg5qjAYtYAC"
      }
    },
    {
      "cell_type": "code",
      "source": [
        "df['pH'].describe()"
      ],
      "metadata": {
        "colab": {
          "base_uri": "https://localhost:8080/"
        },
        "id": "xo2bQ3PttZ7D",
        "outputId": "7883042a-919b-42cd-a608-33aa51758491"
      },
      "execution_count": null,
      "outputs": [
        {
          "output_type": "execute_result",
          "data": {
            "text/plain": [
              "count    1599.000000\n",
              "mean        3.311113\n",
              "std         0.154386\n",
              "min         2.740000\n",
              "25%         3.210000\n",
              "50%         3.310000\n",
              "75%         3.400000\n",
              "max         4.010000\n",
              "Name: pH, dtype: float64"
            ]
          },
          "metadata": {},
          "execution_count": 39
        }
      ]
    },
    {
      "cell_type": "code",
      "source": [
        "upperQ = df['pH'].quantile(q=0.75)\n",
        "lowerQ = df['pH'].quantile(q = 0.25)\n",
        "outlierBound = (upperQ - lowerQ)*1.5\n",
        "df[(df['pH'] > (upperQ + outlierBound)) | (df['pH'] < (lowerQ - outlierBound))].count()"
      ],
      "metadata": {
        "colab": {
          "base_uri": "https://localhost:8080/"
        },
        "id": "ue-s_nimtefy",
        "outputId": "8f651590-45ef-4a51-a364-2cbddb917fe2"
      },
      "execution_count": null,
      "outputs": [
        {
          "output_type": "execute_result",
          "data": {
            "text/plain": [
              "fixed acidity           35\n",
              "volatile acidity        35\n",
              "citric acid             35\n",
              "residual sugar          35\n",
              "chlorides               35\n",
              "free sulfur dioxide     35\n",
              "total sulfur dioxide    35\n",
              "density                 35\n",
              "pH                      35\n",
              "sulphates               35\n",
              "alcohol                 35\n",
              "quality                 35\n",
              "dtype: int64"
            ]
          },
          "metadata": {},
          "execution_count": 40
        }
      ]
    },
    {
      "cell_type": "code",
      "source": [
        "df.loc[df['pH'] > (upperQ + outlierBound), 'pH'] = upperQ + outlierBound\n",
        "df.loc[df['pH'] < (lowerQ - outlierBound), 'pH'] = lowerQ - outlierBound\n",
        "df[(df['pH'] > (upperQ + outlierBound)) | (df['pH'] < (lowerQ - outlierBound))].count()"
      ],
      "metadata": {
        "colab": {
          "base_uri": "https://localhost:8080/"
        },
        "id": "sZKa0TIxtls0",
        "outputId": "d27d6a7c-d976-42c6-861a-49d005fb1257"
      },
      "execution_count": null,
      "outputs": [
        {
          "output_type": "execute_result",
          "data": {
            "text/plain": [
              "fixed acidity           0\n",
              "volatile acidity        0\n",
              "citric acid             0\n",
              "residual sugar          0\n",
              "chlorides               0\n",
              "free sulfur dioxide     0\n",
              "total sulfur dioxide    0\n",
              "density                 0\n",
              "pH                      0\n",
              "sulphates               0\n",
              "alcohol                 0\n",
              "quality                 0\n",
              "dtype: int64"
            ]
          },
          "metadata": {},
          "execution_count": 41
        }
      ]
    },
    {
      "cell_type": "markdown",
      "source": [
        "Outliers Handled"
      ],
      "metadata": {
        "id": "hri3OVXBtvJz"
      }
    },
    {
      "cell_type": "markdown",
      "source": [
        "###Check tenth variable **[sulphates]** for outliers"
      ],
      "metadata": {
        "id": "aztf03wmuILf"
      }
    },
    {
      "cell_type": "code",
      "source": [
        "df['sulphates'].plot(kind='box', vert=False, color='blue',\n",
        "                        figsize=(10,5))\n",
        "\n",
        "plt.xlabel('sulphates')\n",
        "plt.show()"
      ],
      "metadata": {
        "colab": {
          "base_uri": "https://localhost:8080/"
        },
        "id": "eX82D7WduNul",
        "outputId": "d53b1bc8-f092-4dc3-c7e3-b1c3b802fdf9"
      },
      "execution_count": null,
      "outputs": [
        {
          "output_type": "display_data",
          "data": {
            "text/plain": [
              "<Figure size 720x360 with 1 Axes>"
            ],
            "image/png": "[encoded data removed]"
          },
          "metadata": {
            "needs_background": "light"
          }
        }
      ]
    },
    {
      "cell_type": "markdown",
      "source": [
        "Outliers found"
      ],
      "metadata": {
        "id": "0aaXWqxauSlp"
      }
    },
    {
      "cell_type": "markdown",
      "source": [
        "####Handling Outliers"
      ],
      "metadata": {
        "id": "zZSfYduOuUA4"
      }
    },
    {
      "cell_type": "code",
      "source": [
        "df['sulphates'].describe()"
      ],
      "metadata": {
        "colab": {
          "base_uri": "https://localhost:8080/"
        },
        "id": "ZzVb7lz7uVpe",
        "outputId": "469cde3f-0efc-4c02-83fe-031bdc4f89d6"
      },
      "execution_count": null,
      "outputs": [
        {
          "output_type": "execute_result",
          "data": {
            "text/plain": [
              "count    1599.000000\n",
              "mean        0.658149\n",
              "std         0.169507\n",
              "min         0.330000\n",
              "25%         0.550000\n",
              "50%         0.620000\n",
              "75%         0.730000\n",
              "max         2.000000\n",
              "Name: sulphates, dtype: float64"
            ]
          },
          "metadata": {},
          "execution_count": 43
        }
      ]
    },
    {
      "cell_type": "code",
      "source": [
        "upperQ = df['sulphates'].quantile(q=0.75)\n",
        "lowerQ = df['sulphates'].quantile(q = 0.25)\n",
        "outlierBound = (upperQ - lowerQ)*1.5\n",
        "df[(df['sulphates'] > (upperQ + outlierBound)) | (df['sulphates'] < (lowerQ - outlierBound))].count()"
      ],
      "metadata": {
        "colab": {
          "base_uri": "https://localhost:8080/"
        },
        "id": "0IGerRWBubwS",
        "outputId": "d871b773-4758-467e-957c-040ee9402fcf"
      },
      "execution_count": null,
      "outputs": [
        {
          "output_type": "execute_result",
          "data": {
            "text/plain": [
              "fixed acidity           59\n",
              "volatile acidity        59\n",
              "citric acid             59\n",
              "residual sugar          59\n",
              "chlorides               59\n",
              "free sulfur dioxide     59\n",
              "total sulfur dioxide    59\n",
              "density                 59\n",
              "pH                      59\n",
              "sulphates               59\n",
              "alcohol                 59\n",
              "quality                 59\n",
              "dtype: int64"
            ]
          },
          "metadata": {},
          "execution_count": 44
        }
      ]
    },
    {
      "cell_type": "code",
      "source": [
        "df.loc[df['sulphates'] > (upperQ + outlierBound), 'sulphates'] = upperQ + outlierBound\n",
        "df.loc[df['sulphates'] < (lowerQ - outlierBound), 'sulphates'] = lowerQ - outlierBound\n",
        "df[(df['sulphates'] > (upperQ + outlierBound)) | (df['sulphates'] < (lowerQ - outlierBound))].count()"
      ],
      "metadata": {
        "colab": {
          "base_uri": "https://localhost:8080/"
        },
        "id": "KUyzVv1hujfS",
        "outputId": "9a599e36-acc7-4ec2-f788-dbe2b74bc03c"
      },
      "execution_count": null,
      "outputs": [
        {
          "output_type": "execute_result",
          "data": {
            "text/plain": [
              "fixed acidity           0\n",
              "volatile acidity        0\n",
              "citric acid             0\n",
              "residual sugar          0\n",
              "chlorides               0\n",
              "free sulfur dioxide     0\n",
              "total sulfur dioxide    0\n",
              "density                 0\n",
              "pH                      0\n",
              "sulphates               0\n",
              "alcohol                 0\n",
              "quality                 0\n",
              "dtype: int64"
            ]
          },
          "metadata": {},
          "execution_count": 45
        }
      ]
    },
    {
      "cell_type": "markdown",
      "source": [
        "Outliers Handled"
      ],
      "metadata": {
        "id": "4JSJnkACusiD"
      }
    },
    {
      "cell_type": "markdown",
      "source": [
        "###Check eleventh variable **[alcohol]** for outliers"
      ],
      "metadata": {
        "id": "6R3Jk7-Vut7N"
      }
    },
    {
      "cell_type": "code",
      "source": [
        "df['alcohol'].plot(kind='box', vert=False, color='blue',\n",
        "                        figsize=(10,5))\n",
        "\n",
        "plt.xlabel('alcohol')\n",
        "plt.show()"
      ],
      "metadata": {
        "colab": {
          "base_uri": "https://localhost:8080/"
        },
        "id": "Zr2PHkpevFDz",
        "outputId": "d1e70640-da45-41f0-fb04-6d17c59e243b"
      },
      "execution_count": null,
      "outputs": [
        {
          "output_type": "display_data",
          "data": {
            "text/plain": [
              "<Figure size 720x360 with 1 Axes>"
            ],
            "image/png": "[encoded data removed]"
          },
          "metadata": {
            "needs_background": "light"
          }
        }
      ]
    },
    {
      "cell_type": "markdown",
      "source": [
        "Outliers found"
      ],
      "metadata": {
        "id": "xpfi6wrfvL0B"
      }
    },
    {
      "cell_type": "markdown",
      "source": [
        "####Handling Outliers"
      ],
      "metadata": {
        "id": "wA_6hZ5jvM24"
      }
    },
    {
      "cell_type": "code",
      "source": [
        "df['alcohol'].describe()"
      ],
      "metadata": {
        "colab": {
          "base_uri": "https://localhost:8080/"
        },
        "id": "pcyMaPemvOPV",
        "outputId": "32258cd0-cc21-4b2d-e8ae-c30608509da8"
      },
      "execution_count": null,
      "outputs": [
        {
          "output_type": "execute_result",
          "data": {
            "text/plain": [
              "count    1599.000000\n",
              "mean       10.422983\n",
              "std         1.065668\n",
              "min         8.400000\n",
              "25%         9.500000\n",
              "50%        10.200000\n",
              "75%        11.100000\n",
              "max        14.900000\n",
              "Name: alcohol, dtype: float64"
            ]
          },
          "metadata": {},
          "execution_count": 47
        }
      ]
    },
    {
      "cell_type": "code",
      "source": [
        "upperQ = df['alcohol'].quantile(q=0.75)\n",
        "lowerQ = df['alcohol'].quantile(q = 0.25)\n",
        "outlierBound = (upperQ - lowerQ)*1.5\n",
        "df[(df['alcohol'] > (upperQ + outlierBound)) | (df['alcohol'] < (lowerQ - outlierBound))].count()"
      ],
      "metadata": {
        "colab": {
          "base_uri": "https://localhost:8080/"
        },
        "id": "O_tH-SElvTPz",
        "outputId": "40486054-2012-48fb-877c-af6e66057841"
      },
      "execution_count": null,
      "outputs": [
        {
          "output_type": "execute_result",
          "data": {
            "text/plain": [
              "fixed acidity           13\n",
              "volatile acidity        13\n",
              "citric acid             13\n",
              "residual sugar          13\n",
              "chlorides               13\n",
              "free sulfur dioxide     13\n",
              "total sulfur dioxide    13\n",
              "density                 13\n",
              "pH                      13\n",
              "sulphates               13\n",
              "alcohol                 13\n",
              "quality                 13\n",
              "dtype: int64"
            ]
          },
          "metadata": {},
          "execution_count": 48
        }
      ]
    },
    {
      "cell_type": "code",
      "source": [
        "df.loc[df['alcohol'] > (upperQ + outlierBound), 'alcohol'] = upperQ + outlierBound\n",
        "df.loc[df['alcohol'] < (lowerQ - outlierBound), 'alcohol'] = lowerQ - outlierBound\n",
        "df[(df['alcohol'] > (upperQ + outlierBound)) | (df['alcohol'] < (lowerQ - outlierBound))].count()"
      ],
      "metadata": {
        "colab": {
          "base_uri": "https://localhost:8080/"
        },
        "id": "Qn3Ir3WYvbAE",
        "outputId": "b8495ebb-cb33-4985-87cc-421774d84713"
      },
      "execution_count": null,
      "outputs": [
        {
          "output_type": "execute_result",
          "data": {
            "text/plain": [
              "fixed acidity           0\n",
              "volatile acidity        0\n",
              "citric acid             0\n",
              "residual sugar          0\n",
              "chlorides               0\n",
              "free sulfur dioxide     0\n",
              "total sulfur dioxide    0\n",
              "density                 0\n",
              "pH                      0\n",
              "sulphates               0\n",
              "alcohol                 0\n",
              "quality                 0\n",
              "dtype: int64"
            ]
          },
          "metadata": {},
          "execution_count": 49
        }
      ]
    },
    {
      "cell_type": "markdown",
      "source": [
        "Outliers handled"
      ],
      "metadata": {
        "id": "c17SMCgovkMy"
      }
    },
    {
      "cell_type": "markdown",
      "source": [
        "###Check twelth variable **[quality]** for outliers"
      ],
      "metadata": {
        "id": "2DOYSsz8vlLz"
      }
    },
    {
      "cell_type": "markdown",
      "source": [
        "Quality is on a fixed 10 point scale, so should not be adjusted"
      ],
      "metadata": {
        "id": "6Chf0_Pivw3K"
      }
    },
    {
      "cell_type": "markdown",
      "source": [
        "##Examine Attributes and Target Variable"
      ],
      "metadata": {
        "id": "A1MAI6qKZ44x"
      }
    },
    {
      "cell_type": "code",
      "source": [
        "df['fixed acidity'].plot(kind='hist')"
      ],
      "metadata": {
        "colab": {
          "base_uri": "https://localhost:8080/"
        },
        "id": "1wNqr9XWv427",
        "outputId": "1cb24424-60ee-4c1b-c352-9d5a608d8135"
      },
      "execution_count": null,
      "outputs": [
        {
          "output_type": "execute_result",
          "data": {
            "text/plain": [
              "<matplotlib.axes._subplots.AxesSubplot at 0x7f13ea171950>"
            ]
          },
          "metadata": {},
          "execution_count": 50
        },
        {
          "output_type": "display_data",
          "data": {
            "text/plain": [
              "<Figure size 432x288 with 1 Axes>"
            ],
            "image/png": "[encoded data removed]"
          },
          "metadata": {
            "needs_background": "light"
          }
        }
      ]
    },
    {
      "cell_type": "markdown",
      "source": [
        "Normally Distributed"
      ],
      "metadata": {
        "id": "5OIR1oLzyuGi"
      }
    },
    {
      "cell_type": "code",
      "source": [
        "df['volatile acidity'].plot(kind='hist')"
      ],
      "metadata": {
        "colab": {
          "base_uri": "https://localhost:8080/"
        },
        "id": "VIDaNuENxu3C",
        "outputId": "f44e1212-9280-48ac-f508-67d30d4ce910"
      },
      "execution_count": null,
      "outputs": [
        {
          "output_type": "execute_result",
          "data": {
            "text/plain": [
              "<matplotlib.axes._subplots.AxesSubplot at 0x7f13ea2b8d90>"
            ]
          },
          "metadata": {},
          "execution_count": 51
        },
        {
          "output_type": "display_data",
          "data": {
            "text/plain": [
              "<Figure size 432x288 with 1 Axes>"
            ],
            "image/png": "[encoded data removed]"
          },
          "metadata": {
            "needs_background": "light"
          }
        }
      ]
    },
    {
      "cell_type": "markdown",
      "source": [
        "Normally Distributed"
      ],
      "metadata": {
        "id": "jipY9fIDyv8h"
      }
    },
    {
      "cell_type": "code",
      "source": [
        "df['citric acid'].plot(kind='hist')"
      ],
      "metadata": {
        "colab": {
          "base_uri": "https://localhost:8080/"
        },
        "id": "lsOXOIDByPW2",
        "outputId": "6d19a541-0b74-4999-aa8d-966d1f3861ed"
      },
      "execution_count": null,
      "outputs": [
        {
          "output_type": "execute_result",
          "data": {
            "text/plain": [
              "<matplotlib.axes._subplots.AxesSubplot at 0x7f13ea822e10>"
            ]
          },
          "metadata": {},
          "execution_count": 52
        },
        {
          "output_type": "display_data",
          "data": {
            "text/plain": [
              "<Figure size 432x288 with 1 Axes>"
            ],
            "image/png": "[encoded data removed]"
          },
          "metadata": {
            "needs_background": "light"
          }
        }
      ]
    },
    {
      "cell_type": "markdown",
      "source": [
        "**[Citric Acid]** is skewed right, most likely because most red wines are not that sour."
      ],
      "metadata": {
        "id": "TjBvkKazyUL1"
      }
    },
    {
      "cell_type": "code",
      "source": [
        "df['residual sugar'].plot(kind='hist')"
      ],
      "metadata": {
        "colab": {
          "base_uri": "https://localhost:8080/"
        },
        "id": "wCQ15rSkyy44",
        "outputId": "d00a4c8b-e005-41fd-d628-89cb9bf7b001"
      },
      "execution_count": null,
      "outputs": [
        {
          "output_type": "execute_result",
          "data": {
            "text/plain": [
              "<matplotlib.axes._subplots.AxesSubplot at 0x7f13e9fd6e10>"
            ]
          },
          "metadata": {},
          "execution_count": 53
        },
        {
          "output_type": "display_data",
          "data": {
            "text/plain": [
              "<Figure size 432x288 with 1 Axes>"
            ],
            "image/png": "[encoded data removed]"
          },
          "metadata": {
            "needs_background": "light"
          }
        }
      ]
    },
    {
      "cell_type": "markdown",
      "source": [
        "Normally distributed. The secondary peak is from the outlier correction"
      ],
      "metadata": {
        "id": "WHH1_Z28y7gQ"
      }
    },
    {
      "cell_type": "code",
      "source": [
        "df['chlorides'].plot(kind='hist')"
      ],
      "metadata": {
        "colab": {
          "base_uri": "https://localhost:8080/"
        },
        "id": "g7KYsJqozG8v",
        "outputId": "e4f3ff74-890c-40d0-fc63-8b4b1a1a7529"
      },
      "execution_count": null,
      "outputs": [
        {
          "output_type": "execute_result",
          "data": {
            "text/plain": [
              "<matplotlib.axes._subplots.AxesSubplot at 0x7f13ea218990>"
            ]
          },
          "metadata": {},
          "execution_count": 54
        },
        {
          "output_type": "display_data",
          "data": {
            "text/plain": [
              "<Figure size 432x288 with 1 Axes>"
            ],
            "image/png": "[encoded data removed]"
          },
          "metadata": {
            "needs_background": "light"
          }
        }
      ]
    },
    {
      "cell_type": "markdown",
      "source": [
        "Normally distributed. The secondary peak is from the outlier correction"
      ],
      "metadata": {
        "id": "GjN5rrkEzNT6"
      }
    },
    {
      "cell_type": "code",
      "source": [
        "df['free sulfur dioxide'].plot(kind='hist')"
      ],
      "metadata": {
        "colab": {
          "base_uri": "https://localhost:8080/"
        },
        "id": "F4qDvBubzN7E",
        "outputId": "584a72bc-ac39-4926-c7cb-0590e3072364"
      },
      "execution_count": null,
      "outputs": [
        {
          "output_type": "execute_result",
          "data": {
            "text/plain": [
              "<matplotlib.axes._subplots.AxesSubplot at 0x7f13ea311d50>"
            ]
          },
          "metadata": {},
          "execution_count": 55
        },
        {
          "output_type": "display_data",
          "data": {
            "text/plain": [
              "<Figure size 432x288 with 1 Axes>"
            ],
            "image/png": "[encoded data removed]"
          },
          "metadata": {
            "needs_background": "light"
          }
        }
      ]
    },
    {
      "cell_type": "markdown",
      "source": [
        "Skewed right, most likely due to the fact that sulfur dioxide, though mainly used as a preservative, can alter the taste of the wine"
      ],
      "metadata": {
        "id": "Ne0MTdS2zfO5"
      }
    },
    {
      "cell_type": "code",
      "source": [
        "df['total sulfur dioxide'].plot(kind='hist')"
      ],
      "metadata": {
        "colab": {
          "base_uri": "https://localhost:8080/"
        },
        "id": "vyi39Clvzsuj",
        "outputId": "cbdca606-2315-410a-caff-a7fbb93b17b7"
      },
      "execution_count": null,
      "outputs": [
        {
          "output_type": "execute_result",
          "data": {
            "text/plain": [
              "<matplotlib.axes._subplots.AxesSubplot at 0x7f13e9f25cd0>"
            ]
          },
          "metadata": {},
          "execution_count": 56
        },
        {
          "output_type": "display_data",
          "data": {
            "text/plain": [
              "<Figure size 432x288 with 1 Axes>"
            ],
            "image/png": "[encoded data removed]"
          },
          "metadata": {
            "needs_background": "light"
          }
        }
      ]
    },
    {
      "cell_type": "markdown",
      "source": [
        "Skewed right, for a similar reason as previously stated"
      ],
      "metadata": {
        "id": "vh9PFXP3z0Og"
      }
    },
    {
      "cell_type": "code",
      "source": [
        "df['density'].plot(kind='hist')"
      ],
      "metadata": {
        "colab": {
          "base_uri": "https://localhost:8080/"
        },
        "id": "ZroFiu9Lz5R5",
        "outputId": "770af9bb-7f5d-40e5-e38a-ea33e716b574"
      },
      "execution_count": null,
      "outputs": [
        {
          "output_type": "execute_result",
          "data": {
            "text/plain": [
              "<matplotlib.axes._subplots.AxesSubplot at 0x7f13e9eb55d0>"
            ]
          },
          "metadata": {},
          "execution_count": 57
        },
        {
          "output_type": "display_data",
          "data": {
            "text/plain": [
              "<Figure size 432x288 with 1 Axes>"
            ],
            "image/png": "[encoded data removed]"
          },
          "metadata": {
            "needs_background": "light"
          }
        }
      ]
    },
    {
      "cell_type": "markdown",
      "source": [
        "Normally distributed"
      ],
      "metadata": {
        "id": "5BTe5viaz9b5"
      }
    },
    {
      "cell_type": "code",
      "source": [
        "df['pH'].plot(kind='hist')"
      ],
      "metadata": {
        "colab": {
          "base_uri": "https://localhost:8080/"
        },
        "id": "cr2hra5mz-5S",
        "outputId": "e1327a3e-751a-4439-8d39-74f7a41d75fe"
      },
      "execution_count": null,
      "outputs": [
        {
          "output_type": "execute_result",
          "data": {
            "text/plain": [
              "<matplotlib.axes._subplots.AxesSubplot at 0x7f13e9dfced0>"
            ]
          },
          "metadata": {},
          "execution_count": 58
        },
        {
          "output_type": "display_data",
          "data": {
            "text/plain": [
              "<Figure size 432x288 with 1 Axes>"
            ],
            "image/png": "[encoded data removed]"
          },
          "metadata": {
            "needs_background": "light"
          }
        }
      ]
    },
    {
      "cell_type": "markdown",
      "source": [
        "Normally distributed"
      ],
      "metadata": {
        "id": "uUggH0sp0EhS"
      }
    },
    {
      "cell_type": "code",
      "source": [
        "df['sulphates'].plot(kind='hist')"
      ],
      "metadata": {
        "colab": {
          "base_uri": "https://localhost:8080/"
        },
        "id": "kp2UkP8l0DLr",
        "outputId": "9f72086c-319e-435c-bc12-7c8f50b9826e"
      },
      "execution_count": null,
      "outputs": [
        {
          "output_type": "execute_result",
          "data": {
            "text/plain": [
              "<matplotlib.axes._subplots.AxesSubplot at 0x7f13e9dae050>"
            ]
          },
          "metadata": {},
          "execution_count": 59
        },
        {
          "output_type": "display_data",
          "data": {
            "text/plain": [
              "<Figure size 432x288 with 1 Axes>"
            ],
            "image/png": "[encoded data removed]"
          },
          "metadata": {
            "needs_background": "light"
          }
        }
      ]
    },
    {
      "cell_type": "markdown",
      "source": [
        "This is skewed right, though it is not as clear because of the outlier correction. The skew is because **[sulphates]** come from the **[sulphur dioxide]** previously discussed, and thus are skewed the way they are for the same reason."
      ],
      "metadata": {
        "id": "dtVWola-0Xuq"
      }
    },
    {
      "cell_type": "code",
      "source": [
        "df['alcohol'].plot(kind='hist')"
      ],
      "metadata": {
        "colab": {
          "base_uri": "https://localhost:8080/"
        },
        "id": "ISRZ8jE10sCX",
        "outputId": "c42c67f6-8715-4cb2-c6aa-b230655f82f2"
      },
      "execution_count": null,
      "outputs": [
        {
          "output_type": "execute_result",
          "data": {
            "text/plain": [
              "<matplotlib.axes._subplots.AxesSubplot at 0x7f13e9ce5b50>"
            ]
          },
          "metadata": {},
          "execution_count": 60
        },
        {
          "output_type": "display_data",
          "data": {
            "text/plain": [
              "<Figure size 432x288 with 1 Axes>"
            ],
            "image/png": "[encoded data removed]"
          },
          "metadata": {
            "needs_background": "light"
          }
        }
      ]
    },
    {
      "cell_type": "markdown",
      "source": [
        "This is skewed right, most likely because red wine is naturally high in alcohol, thus the values basically starting at 9, and the more expensive wines generally have higher alcohol content, but more expensive wines are less common."
      ],
      "metadata": {
        "id": "ox22qixu098_"
      }
    },
    {
      "cell_type": "code",
      "source": [
        "df['quality'].plot(kind='hist', bins = 5)"
      ],
      "metadata": {
        "colab": {
          "base_uri": "https://localhost:8080/"
        },
        "id": "Qkj7DKvU1Q2H",
        "outputId": "788c8c30-72b5-438a-de45-f0785d082740"
      },
      "execution_count": null,
      "outputs": [
        {
          "output_type": "execute_result",
          "data": {
            "text/plain": [
              "<matplotlib.axes._subplots.AxesSubplot at 0x7f13ea20ead0>"
            ]
          },
          "metadata": {},
          "execution_count": 61
        },
        {
          "output_type": "display_data",
          "data": {
            "text/plain": [
              "<Figure size 432x288 with 1 Axes>"
            ],
            "image/png": "[encoded data removed]"
          },
          "metadata": {
            "needs_background": "light"
          }
        }
      ]
    },
    {
      "cell_type": "markdown",
      "source": [
        "Quality is skewed left, most likely due to the fact that low quality wines simply won't do as well on the market, causing higher quality wines to be more likely to stick around."
      ],
      "metadata": {
        "id": "W4JS0h_51v3-"
      }
    },
    {
      "cell_type": "markdown",
      "source": [
        "##Normalize the values"
      ],
      "metadata": {
        "id": "xw1OOjnc2DC9"
      }
    },
    {
      "cell_type": "code",
      "source": [
        "from sklearn.preprocessing import StandardScaler, MinMaxScaler\n",
        "scaler = MinMaxScaler()  \n",
        "df_scaled = pd.DataFrame(scaler.fit_transform(df), columns = df.columns)\n",
        "df_scaled.head()"
      ],
      "metadata": {
        "id": "bxlbHts52D4M",
        "colab": {
          "base_uri": "https://localhost:8080/"
        },
        "outputId": "ef1060b1-100e-4059-8754-bb550dd7f25c"
      },
      "execution_count": null,
      "outputs": [
        {
          "output_type": "execute_result",
          "data": {
            "text/plain": [
              "   fixed acidity  volatile acidity  citric acid  residual sugar  chlorides  \\\n",
              "0       0.361290          0.648045     0.000000        0.363636     0.4500   \n",
              "1       0.412903          0.849162     0.000000        0.618182     0.7250   \n",
              "2       0.412903          0.715084     0.043716        0.509091     0.6500   \n",
              "3       0.851613          0.178771     0.612022        0.363636     0.4375   \n",
              "4       0.361290          0.648045     0.000000        0.363636     0.4500   \n",
              "\n",
              "   free sulfur dioxide  total sulfur dioxide   density        pH  sulphates  \\\n",
              "0             0.243902              0.241379  0.621085  0.769737   0.343284   \n",
              "1             0.585366              0.525862  0.509228  0.361842   0.522388   \n",
              "2             0.341463              0.413793  0.531600  0.440789   0.477612   \n",
              "3             0.390244              0.465517  0.643456  0.309211   0.373134   \n",
              "4             0.243902              0.241379  0.621085  0.769737   0.343284   \n",
              "\n",
              "    alcohol  quality  \n",
              "0  0.196078      0.4  \n",
              "1  0.274510      0.4  \n",
              "2  0.274510      0.4  \n",
              "3  0.274510      0.6  \n",
              "4  0.196078      0.4  "
            ],
            "text/html": [
              "\n",
              "  <div id=\"df-910527c0-9bff-43cc-8a39-d1c23b58a838\">\n",
              "    <div class=\"colab-df-container\">\n",
              "      <div>\n",
              "<style scoped>\n",
              "    .dataframe tbody tr th:only-of-type {\n",
              "        vertical-align: middle;\n",
              "    }\n",
              "\n",
              "    .dataframe tbody tr th {\n",
              "        vertical-align: top;\n",
              "    }\n",
              "\n",
              "    .dataframe thead th {\n",
              "        text-align: right;\n",
              "    }\n",
              "</style>\n",
              "<table border=\"1\" class=\"dataframe\">\n",
              "  <thead>\n",
              "    <tr style=\"text-align: right;\">\n",
              "      <th></th>\n",
              "      <th>fixed acidity</th>\n",
              "      <th>volatile acidity</th>\n",
              "      <th>citric acid</th>\n",
              "      <th>residual sugar</th>\n",
              "      <th>chlorides</th>\n",
              "      <th>free sulfur dioxide</th>\n",
              "      <th>total sulfur dioxide</th>\n",
              "      <th>density</th>\n",
              "      <th>pH</th>\n",
              "      <th>sulphates</th>\n",
              "      <th>alcohol</th>\n",
              "      <th>quality</th>\n",
              "    </tr>\n",
              "  </thead>\n",
              "  <tbody>\n",
              "    <tr>\n",
              "      <th>0</th>\n",
              "      <td>0.361290</td>\n",
              "      <td>0.648045</td>\n",
              "      <td>0.000000</td>\n",
              "      <td>0.363636</td>\n",
              "      <td>0.4500</td>\n",
              "      <td>0.243902</td>\n",
              "      <td>0.241379</td>\n",
              "      <td>0.621085</td>\n",
              "      <td>0.769737</td>\n",
              "      <td>0.343284</td>\n",
              "      <td>0.196078</td>\n",
              "      <td>0.4</td>\n",
              "    </tr>\n",
              "    <tr>\n",
              "      <th>1</th>\n",
              "      <td>0.412903</td>\n",
              "      <td>0.849162</td>\n",
              "      <td>0.000000</td>\n",
              "      <td>0.618182</td>\n",
              "      <td>0.7250</td>\n",
              "      <td>0.585366</td>\n",
              "      <td>0.525862</td>\n",
              "      <td>0.509228</td>\n",
              "      <td>0.361842</td>\n",
              "      <td>0.522388</td>\n",
              "      <td>0.274510</td>\n",
              "      <td>0.4</td>\n",
              "    </tr>\n",
              "    <tr>\n",
              "      <th>2</th>\n",
              "      <td>0.412903</td>\n",
              "      <td>0.715084</td>\n",
              "      <td>0.043716</td>\n",
              "      <td>0.509091</td>\n",
              "      <td>0.6500</td>\n",
              "      <td>0.341463</td>\n",
              "      <td>0.413793</td>\n",
              "      <td>0.531600</td>\n",
              "      <td>0.440789</td>\n",
              "      <td>0.477612</td>\n",
              "      <td>0.274510</td>\n",
              "      <td>0.4</td>\n",
              "    </tr>\n",
              "    <tr>\n",
              "      <th>3</th>\n",
              "      <td>0.851613</td>\n",
              "      <td>0.178771</td>\n",
              "      <td>0.612022</td>\n",
              "      <td>0.363636</td>\n",
              "      <td>0.4375</td>\n",
              "      <td>0.390244</td>\n",
              "      <td>0.465517</td>\n",
              "      <td>0.643456</td>\n",
              "      <td>0.309211</td>\n",
              "      <td>0.373134</td>\n",
              "      <td>0.274510</td>\n",
              "      <td>0.6</td>\n",
              "    </tr>\n",
              "    <tr>\n",
              "      <th>4</th>\n",
              "      <td>0.361290</td>\n",
              "      <td>0.648045</td>\n",
              "      <td>0.000000</td>\n",
              "      <td>0.363636</td>\n",
              "      <td>0.4500</td>\n",
              "      <td>0.243902</td>\n",
              "      <td>0.241379</td>\n",
              "      <td>0.621085</td>\n",
              "      <td>0.769737</td>\n",
              "      <td>0.343284</td>\n",
              "      <td>0.196078</td>\n",
              "      <td>0.4</td>\n",
              "    </tr>\n",
              "  </tbody>\n",
              "</table>\n",
              "</div>\n",
              "      <button class=\"colab-df-convert\" onclick=\"convertToInteractive('df-910527c0-9bff-43cc-8a39-d1c23b58a838')\"\n",
              "              title=\"Convert this dataframe to an interactive table.\"\n",
              "              style=\"display:none;\">\n",
              "        \n",
              "  <svg xmlns=\"http://www.w3.org/2000/svg\" height=\"24px\"viewBox=\"0 0 24 24\"\n",
              "       width=\"24px\">\n",
              "    <path d=\"M0 0h24v24H0V0z\" fill=\"none\"/>\n",
              "    <path d=\"M18.56 5.44l.94 2.06.94-2.06 2.06-.94-2.06-.94-.94-2.06-.94 2.06-2.06.94zm-11 1L8.5 8.5l.94-2.06 2.06-.94-2.06-.94L8.5 2.5l-.94 2.06-2.06.94zm10 10l.94 2.06.94-2.06 2.06-.94-2.06-.94-.94-2.06-.94 2.06-2.06.94z\"/><path d=\"M17.41 7.96l-1.37-1.37c-.4-.4-.92-.59-1.43-.59-.52 0-1.04.2-1.43.59L10.3 9.45l-7.72 7.72c-.78.78-.78 2.05 0 2.83L4 21.41c.39.39.9.59 1.41.59.51 0 1.02-.2 1.41-.59l7.78-7.78 2.81-2.81c.8-.78.8-2.07 0-2.86zM5.41 20L4 18.59l7.72-7.72 1.47 1.35L5.41 20z\"/>\n",
              "  </svg>\n",
              "      </button>\n",
              "      \n",
              "  <style>\n",
              "    .colab-df-container {\n",
              "      display:flex;\n",
              "      flex-wrap:wrap;\n",
              "      gap: 12px;\n",
              "    }\n",
              "\n",
              "    .colab-df-convert {\n",
              "      background-color: #E8F0FE;\n",
              "      border: none;\n",
              "      border-radius: 50%;\n",
              "      cursor: pointer;\n",
              "      display: none;\n",
              "      fill: #1967D2;\n",
              "      height: 32px;\n",
              "      padding: 0 0 0 0;\n",
              "      width: 32px;\n",
              "    }\n",
              "\n",
              "    .colab-df-convert:hover {\n",
              "      background-color: #E2EBFA;\n",
              "      box-shadow: 0px 1px 2px rgba(60, 64, 67, 0.3), 0px 1px 3px 1px rgba(60, 64, 67, 0.15);\n",
              "      fill: #174EA6;\n",
              "    }\n",
              "\n",
              "    [theme=dark] .colab-df-convert {\n",
              "      background-color: #3B4455;\n",
              "      fill: #D2E3FC;\n",
              "    }\n",
              "\n",
              "    [theme=dark] .colab-df-convert:hover {\n",
              "      background-color: #434B5C;\n",
              "      box-shadow: 0px 1px 3px 1px rgba(0, 0, 0, 0.15);\n",
              "      filter: drop-shadow(0px 1px 2px rgba(0, 0, 0, 0.3));\n",
              "      fill: #FFFFFF;\n",
              "    }\n",
              "  </style>\n",
              "\n",
              "      <script>\n",
              "        const buttonEl =\n",
              "          document.querySelector('#df-910527c0-9bff-43cc-8a39-d1c23b58a838 button.colab-df-convert');\n",
              "        buttonEl.style.display =\n",
              "          google.colab.kernel.accessAllowed ? 'block' : 'none';\n",
              "\n",
              "        async function convertToInteractive(key) {\n",
              "          const element = document.querySelector('#df-910527c0-9bff-43cc-8a39-d1c23b58a838');\n",
              "          const dataTable =\n",
              "            await google.colab.kernel.invokeFunction('convertToInteractive',\n",
              "                                                     [key], {});\n",
              "          if (!dataTable) return;\n",
              "\n",
              "          const docLinkHtml = 'Like what you see? Visit the ' +\n",
              "            '<a target=\"_blank\" href=https://colab.research.google.com/notebooks/data_table.ipynb>data table notebook</a>'\n",
              "            + ' to learn more about interactive tables.';\n",
              "          element.innerHTML = '';\n",
              "          dataTable['output_type'] = 'display_data';\n",
              "          await google.colab.output.renderOutput(dataTable, element);\n",
              "          const docLink = document.createElement('div');\n",
              "          docLink.innerHTML = docLinkHtml;\n",
              "          element.appendChild(docLink);\n",
              "        }\n",
              "      </script>\n",
              "    </div>\n",
              "  </div>\n",
              "  "
            ]
          },
          "metadata": {},
          "execution_count": 62
        }
      ]
    },
    {
      "cell_type": "markdown",
      "source": [
        "##Attribute Correlation and Selecting important variables"
      ],
      "metadata": {
        "id": "A3aBf3-g7u7n"
      }
    },
    {
      "cell_type": "code",
      "source": [
        "df.corr()['quality']"
      ],
      "metadata": {
        "colab": {
          "base_uri": "https://localhost:8080/"
        },
        "id": "1u-U18T78d3s",
        "outputId": "9f79f8df-3796-4085-fbd0-487fe0144375"
      },
      "execution_count": null,
      "outputs": [
        {
          "output_type": "execute_result",
          "data": {
            "text/plain": [
              "fixed acidity           0.125442\n",
              "volatile acidity       -0.387608\n",
              "citric acid             0.227144\n",
              "residual sugar          0.023790\n",
              "chlorides              -0.183037\n",
              "free sulfur dioxide    -0.050641\n",
              "total sulfur dioxide   -0.201542\n",
              "density                -0.176330\n",
              "pH                     -0.061507\n",
              "sulphates               0.328710\n",
              "alcohol                 0.478556\n",
              "quality                 1.000000\n",
              "Name: quality, dtype: float64"
            ]
          },
          "metadata": {},
          "execution_count": 63
        }
      ]
    },
    {
      "cell_type": "markdown",
      "source": [
        "The variables with the most correlation with quality are, in descending order, **[alcohol]**, **[volatile acidity]**, **[sulphates]**, and **[citric acid]**."
      ],
      "metadata": {
        "id": "Qob2rCdI9vsw"
      }
    },
    {
      "cell_type": "code",
      "source": [
        "sns.set_theme()\n",
        "sns.catplot(data = df, x = 'quality', y = 'alcohol', kind = \"box\")"
      ],
      "metadata": {
        "colab": {
          "base_uri": "https://localhost:8080/"
        },
        "id": "bs8pLOMzAYDF",
        "outputId": "df988b1f-2e79-43b4-fb0f-fd0ebc9c7038"
      },
      "execution_count": null,
      "outputs": [
        {
          "output_type": "execute_result",
          "data": {
            "text/plain": [
              "<seaborn.axisgrid.FacetGrid at 0x7f13e9e2c510>"
            ]
          },
          "metadata": {},
          "execution_count": 64
        },
        {
          "output_type": "display_data",
          "data": {
            "text/plain": [
              "<Figure size 360x360 with 1 Axes>"
            ],
            "image/png": "[encoded data removed]"
          },
          "metadata": {}
        }
      ]
    },
    {
      "cell_type": "markdown",
      "source": [
        "As you go up the wine quality grades, the average alcohol content increases, so there is a positive correlation. Accordingly, the correlation is **[0.479]**"
      ],
      "metadata": {
        "id": "QxkcnkcdEY9i"
      }
    },
    {
      "cell_type": "code",
      "source": [
        "sns.catplot(data = df, x = 'quality', y = 'volatile acidity', kind = \"box\")"
      ],
      "metadata": {
        "colab": {
          "base_uri": "https://localhost:8080/"
        },
        "id": "_l7QG90hElGj",
        "outputId": "efd19da2-3b56-4236-9941-5e96314d7234"
      },
      "execution_count": null,
      "outputs": [
        {
          "output_type": "execute_result",
          "data": {
            "text/plain": [
              "<seaborn.axisgrid.FacetGrid at 0x7f13ea0d4810>"
            ]
          },
          "metadata": {},
          "execution_count": 65
        },
        {
          "output_type": "display_data",
          "data": {
            "text/plain": [
              "<Figure size 360x360 with 1 Axes>"
            ],
            "image/png": "[encoded data removed]"
          },
          "metadata": {}
        }
      ]
    },
    {
      "cell_type": "markdown",
      "source": [
        "On the other hand, as the quality of the wine increases, the average volatile acidity decreases, a negative correlation. Accordingly the correlation is **[-0.388]**."
      ],
      "metadata": {
        "id": "t3grjG7dEuJE"
      }
    },
    {
      "cell_type": "code",
      "source": [
        "sns.catplot(data = df, x = 'quality', y = 'sulphates', kind = \"box\")"
      ],
      "metadata": {
        "colab": {
          "base_uri": "https://localhost:8080/"
        },
        "id": "uXmidhS3E7DN",
        "outputId": "abfb8c93-d052-45e2-8db5-e0c79fd3ac41"
      },
      "execution_count": null,
      "outputs": [
        {
          "output_type": "execute_result",
          "data": {
            "text/plain": [
              "<seaborn.axisgrid.FacetGrid at 0x7f13e9f4fe50>"
            ]
          },
          "metadata": {},
          "execution_count": 66
        },
        {
          "output_type": "display_data",
          "data": {
            "text/plain": [
              "<Figure size 360x360 with 1 Axes>"
            ],
            "image/png": "[encoded data removed]"
          },
          "metadata": {}
        }
      ]
    },
    {
      "cell_type": "markdown",
      "source": [
        "The amount of sulphates has a weaker positive correlation with quality, and the correlation is **[0.329]**"
      ],
      "metadata": {
        "id": "tY3VpOfJF9gE"
      }
    },
    {
      "cell_type": "code",
      "source": [
        "sns.catplot(data = df, x = 'quality', y = 'citric acid', kind = \"box\")"
      ],
      "metadata": {
        "colab": {
          "base_uri": "https://localhost:8080/"
        },
        "id": "DaYVn9tIGNvp",
        "outputId": "41ae74c1-4fc2-4b66-e1e1-42a84334f9ce"
      },
      "execution_count": null,
      "outputs": [
        {
          "output_type": "execute_result",
          "data": {
            "text/plain": [
              "<seaborn.axisgrid.FacetGrid at 0x7f13e72ee7d0>"
            ]
          },
          "metadata": {},
          "execution_count": 67
        },
        {
          "output_type": "display_data",
          "data": {
            "text/plain": [
              "<Figure size 360x360 with 1 Axes>"
            ],
            "image/png": "[encoded data removed]"
          },
          "metadata": {}
        }
      ]
    },
    {
      "cell_type": "markdown",
      "source": [
        "The amount of citric acid also has a positive correlation, with a correlation of **[0.227]**"
      ],
      "metadata": {
        "id": "wl8Yajh4Ge0y"
      }
    },
    {
      "cell_type": "markdown",
      "source": [
        "##Splitting data into training and testing"
      ],
      "metadata": {
        "id": "JjhUOPh8GufJ"
      }
    },
    {
      "cell_type": "code",
      "source": [
        "from sklearn.model_selection import train_test_split\n",
        "X = df_scaled[['alcohol', 'volatile acidity', 'sulphates', 'citric acid']]\n",
        "Y = df_scaled[['quality']]\n",
        "dfX_train, dfX_test, dfY_train, dfY_test = train_test_split(X, Y, test_size=0.2)"
      ],
      "metadata": {
        "id": "_g_Q6awIHLNo"
      },
      "execution_count": null,
      "outputs": []
    },
    {
      "cell_type": "markdown",
      "source": [
        "#Model Construction"
      ],
      "metadata": {
        "id": "1sOx0VcPHlVK"
      }
    },
    {
      "cell_type": "markdown",
      "source": [
        "##OLS Model"
      ],
      "metadata": {
        "id": "Yd7mWfu6GwlX"
      }
    },
    {
      "cell_type": "code",
      "source": [
        "import statsmodels.api as sm\n",
        "from statsmodels.sandbox.regression.predstd import wls_prediction_std\n",
        "dfX_train_off = sm.add_constant(dfX_train)\n",
        "smRegression = sm.OLS(dfY_train, dfX_train_off)\n",
        " \n",
        "model = smRegression.fit()\n",
        "print(model.summary())\n"
      ],
      "metadata": {
        "colab": {
          "base_uri": "https://localhost:8080/"
        },
        "id": "1imq6Ka-G3rm",
        "outputId": "29149591-557f-4286-ed8e-b07b9f69b867"
      },
      "execution_count": null,
      "outputs": [
        {
          "output_type": "stream",
          "name": "stdout",
          "text": [
            "                            OLS Regression Results                            \n",
            "==============================================================================\n",
            "Dep. Variable:                quality   R-squared:                       0.358\n",
            "Model:                            OLS   Adj. R-squared:                  0.356\n",
            "Method:                 Least Squares   F-statistic:                     177.5\n",
            "Date:                Thu, 22 Sep 2022   Prob (F-statistic):          6.72e-121\n",
            "Time:                        16:14:30   Log-Likelihood:                 797.96\n",
            "No. Observations:                1279   AIC:                            -1586.\n",
            "Df Residuals:                    1274   BIC:                            -1560.\n",
            "Df Model:                           4                                         \n",
            "Covariance Type:            nonrobust                                         \n",
            "====================================================================================\n",
            "                       coef    std err          t      P>|t|      [0.025      0.975]\n",
            "------------------------------------------------------------------------------------\n",
            "const                0.4307      0.019     22.135      0.000       0.393       0.469\n",
            "alcohol              0.3143      0.018     17.394      0.000       0.279       0.350\n",
            "volatile acidity    -0.2100      0.023     -9.135      0.000      -0.255      -0.165\n",
            "sulphates            0.1503      0.019      7.832      0.000       0.113       0.188\n",
            "citric acid         -0.0131      0.021     -0.622      0.534      -0.054       0.028\n",
            "==============================================================================\n",
            "Omnibus:                       18.962   Durbin-Watson:                   1.969\n",
            "Prob(Omnibus):                  0.000   Jarque-Bera (JB):               29.860\n",
            "Skew:                          -0.110   Prob(JB):                     3.28e-07\n",
            "Kurtosis:                       3.716   Cond. No.                         11.6\n",
            "==============================================================================\n",
            "\n",
            "Notes:\n",
            "[1] Standard Errors assume that the covariance matrix of the errors is correctly specified.\n"
          ]
        },
        {
          "output_type": "stream",
          "name": "stderr",
          "text": [
            "/usr/local/lib/python3.7/dist-packages/statsmodels/tsa/tsatools.py:142: FutureWarning: In a future version of pandas all arguments of concat except for the argument 'objs' will be keyword-only\n",
            "  x = pd.concat(x[::order], 1)\n"
          ]
        }
      ]
    },
    {
      "cell_type": "markdown",
      "source": [
        "##SGD Model"
      ],
      "metadata": {
        "id": "suXEddU8JkJ2"
      }
    },
    {
      "cell_type": "code",
      "source": [
        "from sklearn.linear_model import SGDRegressor\n",
        "from sklearn.metrics import mean_squared_error, r2_score\n",
        "\n",
        "#attributes to change for tuning\n",
        "df_alpha = 0.001\n",
        "df_max_iter = 50000\n",
        "df_power_t = 0.01\n",
        "df_n = 15\n",
        "\n",
        "sgd = SGDRegressor(max_iter=df_max_iter, alpha=df_alpha, power_t = df_power_t, n_iter_no_change = df_n)\n",
        "sgd.fit(dfX_train, dfY_train)\n",
        "\n",
        "dfY_Pred_SGD = sgd.predict(dfX_test)\n",
        "\n",
        "mse = mean_squared_error(dfY_test, dfY_Pred_SGD)\n",
        "r2s = r2_score(dfY_test, dfY_Pred_SGD)\n",
        "print(\"MSE: \", mse)\n",
        "print(\"R^2 Score: \", r2s)\n",
        "\n",
        "df_range = range(len(dfY_Pred_SGD))\n",
        "plt.plot(df_range, dfY_test, 'o')\n",
        "plt.plot(df_range, dfY_Pred_SGD, label = \"predicted\")\n",
        "plt.legend(loc='best',fancybox=True, shadow=True)\n",
        "plt.grid(True)\n",
        "plt.show() "
      ],
      "metadata": {
        "id": "fwh2e6wIHpNZ",
        "colab": {
          "base_uri": "https://localhost:8080/",
          "height": 361
        },
        "outputId": "38f1ddbc-98c9-418b-99a0-699b5c873ff9"
      },
      "execution_count": null,
      "outputs": [
        {
          "output_type": "stream",
          "name": "stderr",
          "text": [
            "/usr/local/lib/python3.7/dist-packages/sklearn/utils/validation.py:993: DataConversionWarning: A column-vector y was passed when a 1d array was expected. Please change the shape of y to (n_samples, ), for example using ravel().\n",
            "  y = column_or_1d(y, warn=True)\n"
          ]
        },
        {
          "output_type": "stream",
          "name": "stdout",
          "text": [
            "MSE:  0.016718543041807612\n",
            "R^2 Score:  0.335865709964815\n"
          ]
        },
        {
          "output_type": "display_data",
          "data": {
            "text/plain": [
              "<Figure size 432x288 with 1 Axes>"
            ],
            "image/png": "[encoded data removed]"
          },
          "metadata": {}
        }
      ]
    }
  ]
}
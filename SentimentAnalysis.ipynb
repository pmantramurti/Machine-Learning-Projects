{
  "cells": [
    {
      "cell_type": "markdown",
      "metadata": {
        "id": "Wd-LFCKSkNit"
      },
      "source": [
        "#Setup"
      ]
    },
    {
      "cell_type": "code",
      "execution_count": null,
      "metadata": {
        "colab": {
          "base_uri": "https://localhost:8080/"
        },
        "id": "PC3FJVo5fRok",
        "outputId": "c19da6d1-b486-4a2d-8008-c6ec5a50cfc6"
      },
      "outputs": [
        {
          "name": "stdout",
          "output_type": "stream",
          "text": [
            "--2022-12-06 23:48:43--  https://archive.ics.uci.edu/ml/machine-learning-databases/00331/sentiment%20labelled%20sentences.zip\n",
            "Resolving archive.ics.uci.edu (archive.ics.uci.edu)... 128.195.10.252\n",
            "Connecting to archive.ics.uci.edu (archive.ics.uci.edu)|128.195.10.252|:443... connected.\n",
            "HTTP request sent, awaiting response... 200 OK\n",
            "Length: 84188 (82K) [application/x-httpd-php]\n",
            "Saving to: ‘sentiment labelled sentences.zip.1’\n",
            "\n",
            "sentiment labelled  100%[===================>]  82.21K   267KB/s    in 0.3s    \n",
            "\n",
            "2022-12-06 23:48:44 (267 KB/s) - ‘sentiment labelled sentences.zip.1’ saved [84188/84188]\n",
            "\n",
            "Archive:  sentiment labelled sentences.zip\n",
            "replace sentiment labelled sentences/.DS_Store? [y]es, [n]o, [A]ll, [N]one, [r]ename: "
          ]
        }
      ],
      "source": [
        "!wget https://archive.ics.uci.edu/ml/machine-learning-databases/00331/sentiment%20labelled%20sentences.zip\n",
        "!unzip 'sentiment labelled sentences.zip'"
      ]
    },
    {
      "cell_type": "code",
      "execution_count": null,
      "metadata": {
        "id": "ZqX2HonPfqtg"
      },
      "outputs": [],
      "source": [
        "x = []\n",
        "y = []\n",
        "with open('/content/sentiment labelled sentences/imdb_labelled.txt') as f:\n",
        "    for line in f:\n",
        "      x_val, y_val = line.split('  \t')\n",
        "      x.append(''.join(x_val))\n",
        "      y.append(int(y_val.rstrip('\\n')))"
      ]
    },
    {
      "cell_type": "code",
      "execution_count": null,
      "metadata": {
        "colab": {
          "base_uri": "https://localhost:8080/",
          "height": 265
        },
        "id": "Vb5SCUc3Toec",
        "outputId": "97b5c923-05d1-42bc-bf7f-a2216ad8d07a"
      },
      "outputs": [
        {
          "data": {
            "image/png": "[encoded data removed]",
            "text/plain": [
              "<Figure size 432x288 with 1 Axes>"
            ]
          },
          "metadata": {},
          "output_type": "display_data"
        }
      ],
      "source": [
        "#creating bar chart distrbution\n",
        "import matplotlib.pyplot as plt\n",
        "labels = ['Negative', 'Positive']\n",
        "counts = [0, 0]\n",
        "for num in y:\n",
        "  counts[num] += 1\n",
        "plt.bar(labels, counts)\n",
        "plt.show()"
      ]
    },
    {
      "cell_type": "markdown",
      "metadata": {
        "id": "xVYswS3J4zj7"
      },
      "source": [
        "#Sentiment Prediction using **[LSTM]**"
      ]
    },
    {
      "cell_type": "markdown",
      "metadata": {
        "id": "uO06lcm5lGXN"
      },
      "source": [
        "##Imports and Hyperparameter Tuning"
      ]
    },
    {
      "cell_type": "code",
      "execution_count": null,
      "metadata": {
        "id": "mUWD3ets4nEc"
      },
      "outputs": [],
      "source": [
        "import numpy as np\n",
        "import pandas as pd\n",
        "import tensorflow as tf\n",
        "from tensorflow.keras.preprocessing.text import Tokenizer\n",
        "from tensorflow.keras.preprocessing.sequence import pad_sequences\n",
        "from tensorflow.keras.layers import LSTM, Dense, Embedding, Bidirectional\n",
        "from tensorflow.keras.models import Sequential\n",
        "from sklearn.model_selection import train_test_split\n",
        "from sklearn.metrics import classification_report\n",
        "from tensorflow.keras import regularizers\n",
        "\n",
        "epochs = [10, 15, 20]\n",
        "Num_Epochs = epochs[1]\n",
        "rates = [1e-5, 5e-5, 1e-4, 5e-4, 1e-3]\n",
        "l_r = rates[2]\n",
        "optimizers = [tf.keras.optimizers.SGD(learning_rate=l_r), \n",
        "              tf.keras.optimizers.RMSprop(learning_rate=l_r),\n",
        "              tf.keras.optimizers.Adam(learning_rate=l_r)]\n",
        "OPTIMIZER = optimizers[2]\n",
        "\n",
        "activations = ['sigmoid', 'relu']\n",
        "act_func = activations[0]\n",
        "\n",
        "regs = [regularizers.L1(0.01), regularizers.L2(0.01), regularizers.L1L2(0.01)]\n",
        "reg = regs[1]"
      ]
    },
    {
      "cell_type": "markdown",
      "metadata": {
        "id": "49ykVUYwlDSa"
      },
      "source": [
        "##Run Model"
      ]
    },
    {
      "cell_type": "code",
      "execution_count": null,
      "metadata": {
        "id": "IWuLw2ITMXQ7"
      },
      "outputs": [],
      "source": [
        "x = np.array(x)\n",
        "y = np.array(y)\n",
        "\n",
        "x_train, x_test, y_train, y_test = train_test_split(x, y, test_size = 0.2, random_state = 1234)\n",
        "\n",
        "vocab_size = 10000\n",
        "sequenceLen = 20\n",
        "\n",
        "tokenizer = Tokenizer(num_words=vocab_size)\n",
        "tokenizer.fit_on_texts(x_train)\n",
        "train_sequences = tokenizer.texts_to_sequences(x_train)\n",
        "train_padded = pad_sequences(train_sequences, maxlen=sequenceLen, padding='post', truncating='post')\n",
        "test_sequences = tokenizer.texts_to_sequences(x_test)\n",
        "test_padded = pad_sequences(test_sequences, maxlen=sequenceLen, padding='post', truncating='post')\n",
        "\n",
        "model = Sequential()\n",
        "model.add(Embedding(vocab_size, 100, embeddings_regularizer = reg))\n",
        "model.add(Bidirectional(LSTM(100)))\n",
        "model.add(Dense(50, activation= 'relu'))\n",
        "model.add(Dense(1, activation=act_func))\n",
        "\n",
        "model.compile(loss='binary_crossentropy', optimizer=OPTIMIZER, metrics=['accuracy'])"
      ]
    },
    {
      "cell_type": "code",
      "execution_count": null,
      "metadata": {
        "colab": {
          "base_uri": "https://localhost:8080/"
        },
        "id": "IsP32K5VQzQB",
        "outputId": "7a8e0646-67c9-4121-f6b0-2a64cb5ab81f"
      },
      "outputs": [
        {
          "output_type": "stream",
          "name": "stdout",
          "text": [
            "Epoch 1/15\n",
            "20/20 [==============================] - 4s 51ms/step - loss: 7.1067 - accuracy: 0.5063 - val_loss: 5.0415 - val_accuracy: 0.4812\n",
            "Epoch 2/15\n",
            "20/20 [==============================] - 0s 10ms/step - loss: 3.8722 - accuracy: 0.5125 - val_loss: 2.8887 - val_accuracy: 0.5063\n",
            "Epoch 3/15\n",
            "20/20 [==============================] - 0s 10ms/step - loss: 2.3591 - accuracy: 0.5422 - val_loss: 1.9036 - val_accuracy: 0.5312\n",
            "Epoch 4/15\n",
            "20/20 [==============================] - 0s 10ms/step - loss: 1.6346 - accuracy: 0.5531 - val_loss: 1.4020 - val_accuracy: 0.5188\n",
            "Epoch 5/15\n",
            "20/20 [==============================] - 0s 9ms/step - loss: 1.2445 - accuracy: 0.5844 - val_loss: 1.1208 - val_accuracy: 0.5312\n",
            "Epoch 6/15\n",
            "20/20 [==============================] - 0s 10ms/step - loss: 1.0083 - accuracy: 0.6281 - val_loss: 0.9424 - val_accuracy: 0.5938\n",
            "Epoch 7/15\n",
            "20/20 [==============================] - 0s 10ms/step - loss: 0.8122 - accuracy: 0.7000 - val_loss: 0.8217 - val_accuracy: 0.6187\n",
            "Epoch 8/15\n",
            "20/20 [==============================] - 0s 10ms/step - loss: 0.6080 - accuracy: 0.8156 - val_loss: 0.7667 - val_accuracy: 0.6875\n",
            "Epoch 9/15\n",
            "20/20 [==============================] - 0s 10ms/step - loss: 0.3741 - accuracy: 0.8984 - val_loss: 0.7108 - val_accuracy: 0.7250\n",
            "Epoch 10/15\n",
            "20/20 [==============================] - 0s 10ms/step - loss: 0.2558 - accuracy: 0.9422 - val_loss: 0.6951 - val_accuracy: 0.7188\n",
            "Epoch 11/15\n",
            "20/20 [==============================] - 0s 10ms/step - loss: 0.1504 - accuracy: 0.9859 - val_loss: 0.6693 - val_accuracy: 0.7812\n",
            "Epoch 12/15\n",
            "20/20 [==============================] - 0s 10ms/step - loss: 0.1044 - accuracy: 0.9937 - val_loss: 0.8304 - val_accuracy: 0.7312\n",
            "Epoch 13/15\n",
            "20/20 [==============================] - 0s 10ms/step - loss: 0.0708 - accuracy: 0.9969 - val_loss: 1.0452 - val_accuracy: 0.7125\n",
            "Epoch 14/15\n",
            "20/20 [==============================] - 0s 10ms/step - loss: 0.0573 - accuracy: 0.9984 - val_loss: 0.8319 - val_accuracy: 0.7500\n",
            "Epoch 15/15\n",
            "20/20 [==============================] - 0s 10ms/step - loss: 0.0462 - accuracy: 1.0000 - val_loss: 0.8499 - val_accuracy: 0.7625\n"
          ]
        }
      ],
      "source": [
        "history = model.fit(train_padded, y_train, epochs=Num_Epochs, validation_split = 0.2)"
      ]
    },
    {
      "cell_type": "code",
      "execution_count": null,
      "metadata": {
        "colab": {
          "base_uri": "https://localhost:8080/",
          "height": 513
        },
        "id": "vdsp_tUxW8O0",
        "outputId": "70983b74-cb1a-45b1-a0f5-576971e3e550"
      },
      "outputs": [
        {
          "output_type": "display_data",
          "data": {
            "text/plain": [
              "<Figure size 576x576 with 2 Axes>"
            ],
            "image/png": "[encoded data removed]"
          },
          "metadata": {
            "needs_background": "light"
          }
        }
      ],
      "source": [
        "acc = history.history['accuracy']\n",
        "val_acc = history.history['val_accuracy']\n",
        "\n",
        "loss = history.history['loss']\n",
        "val_loss = history.history['val_loss']\n",
        "\n",
        "plt.figure(figsize=(8, 8))\n",
        "plt.subplot(2, 1, 1)\n",
        "plt.plot(acc, label='Training Accuracy')\n",
        "plt.plot(val_acc, label='Validation Accuracy')\n",
        "plt.legend(loc='lower right')\n",
        "plt.ylabel('Accuracy')\n",
        "plt.ylim([min(plt.ylim()),1])\n",
        "plt.title('Training and Validation Accuracy')\n",
        "\n",
        "plt.subplot(2, 1, 2)\n",
        "plt.plot(loss, label='Training Loss')\n",
        "plt.plot(val_loss, label='Validation Loss')\n",
        "plt.legend(loc='upper right')\n",
        "plt.ylabel('Cross Entropy')\n",
        "plt.ylim([0,2.0])\n",
        "plt.title('Training and Validation Loss')\n",
        "plt.xlabel('epoch')\n",
        "plt.show()"
      ]
    },
    {
      "cell_type": "code",
      "execution_count": null,
      "metadata": {
        "colab": {
          "base_uri": "https://localhost:8080/"
        },
        "id": "XLzkojrmSZ52",
        "outputId": "82c2f39a-ada8-4965-abcd-0992a81ca088"
      },
      "outputs": [
        {
          "output_type": "stream",
          "name": "stdout",
          "text": [
            "7/7 [==============================] - 0s 4ms/step\n",
            "              precision    recall  f1-score   support\n",
            "\n",
            "           0       0.81      0.81      0.81        99\n",
            "           1       0.81      0.81      0.81       101\n",
            "\n",
            "    accuracy                           0.81       200\n",
            "   macro avg       0.81      0.81      0.81       200\n",
            "weighted avg       0.81      0.81      0.81       200\n",
            "\n",
            "Input : The film gives meaning to the phrase, \"Never in the history of human conflict has so much been owed by so many to so few.\n",
            "Predicted : Negative\n",
            "Actual : Positive\n",
            "\n",
            "Input : I can't see how this movie can be an inspiration to anyone to come out or overcome fear and rejection.\n",
            "Predicted : Positive\n",
            "Actual : Negative\n",
            "\n",
            "Input : This is a masterful piece of film-making, with many themes simmering and occasionally boiling over in this warts and all study of the poet's bohemian, self-indulgent wartime years that span the aerial bombardments of London and the outward tranquillity of a Welsh coastal retreat - the borderlines between friendship, lust and love, dedication to art and experience versus practical concerns, jealousy, rivalry, cowardice and egotism versus heroism and self-sacrifice and more.\n",
            "Predicted : Negative\n",
            "Actual : Positive\n",
            "\n",
            "Input : If you have not seen this movie, I definitely recommend it!\n",
            "Predicted : Negative\n",
            "Actual : Positive\n",
            "\n",
            "Input : Julian Fellowes has triumphed again.\n",
            "Predicted : Negative\n",
            "Actual : Positive\n",
            "\n",
            "Input : If there was ever an indication of a writer and a director's ability to meld two highly volatile temperaments into a seamless union of creativity, then this is it!\n",
            "Predicted : Negative\n",
            "Actual : Positive\n",
            "\n",
            "Input : The directing is sloppy at best.\n",
            "Predicted : Positive\n",
            "Actual : Negative\n",
            "\n",
            "Input : Every time he opened his mouth you expect to hear, \"you see kids...\" Pulling the plug was a mercy killing for this horrible show.\n",
            "Predicted : Positive\n",
            "Actual : Negative\n",
            "\n",
            "Input : As a courtroom drama, it's compelling, as an indictment on the American justice system, it's frightening.\n",
            "Predicted : Negative\n",
            "Actual : Positive\n",
            "\n",
            "Input : The last 15 minutes of movie are also not bad as well.\n",
            "Predicted : Negative\n",
            "Actual : Positive\n",
            "\n"
          ]
        }
      ],
      "source": [
        "pred = model.predict(test_padded)\n",
        "pred = [1.0 if p>= 0.5 else 0.0 for p in pred]\n",
        "print(classification_report(y_test, pred))\n",
        "counter = 0\n",
        "for i in range(0, len(pred)):\n",
        "  if pred[i] != y_test[i]:\n",
        "    print('Input : ' + x_test[i])\n",
        "    if pred[i] == 0:\n",
        "      print('Predicted : Negative')\n",
        "    else:\n",
        "      print('Predicted : Positive')\n",
        "    if y_test[i] == 0:\n",
        "      print('Actual : Negative')\n",
        "    else:\n",
        "      print('Actual : Positive')\n",
        "    print()\n",
        "    counter += 1\n",
        "  if(counter >= 10):\n",
        "    break"
      ]
    },
    {
      "cell_type": "markdown",
      "metadata": {
        "id": "6-rAQRY6YbFz"
      },
      "source": [
        "#Sentiment Prediction using naive Bayes"
      ]
    },
    {
      "cell_type": "markdown",
      "metadata": {
        "id": "Y13h5sJSlQJX"
      },
      "source": [
        "##Imports and Hyperparameter Tuning"
      ]
    },
    {
      "cell_type": "code",
      "execution_count": null,
      "metadata": {
        "id": "bWUTaI6PYeUz"
      },
      "outputs": [],
      "source": [
        "from sklearn.feature_extraction.text import CountVectorizer\n",
        "from nltk.tokenize import RegexpTokenizer\n",
        "from sklearn.naive_bayes import MultinomialNB\n",
        "from sklearn.model_selection import train_test_split\n",
        "from sklearn import metrics\n",
        "\n",
        "ngram_R = [(1, 1), (2, 2), (3, 3)]\n",
        "ngram = ngram_R[0]\n",
        "priors = [[0.25, 0.75], [0.5, 0.5], [0.75, 0.25]]\n",
        "c_p = priors[0]\n"
      ]
    },
    {
      "cell_type": "markdown",
      "metadata": {
        "id": "tSqg4YjwlWjg"
      },
      "source": [
        "##Run Program"
      ]
    },
    {
      "cell_type": "code",
      "execution_count": null,
      "metadata": {
        "colab": {
          "base_uri": "https://localhost:8080/"
        },
        "id": "hGAsyLXTa0Mh",
        "outputId": "cf39ec93-5ac3-4ceb-bb83-c6ca0629428b"
      },
      "outputs": [
        {
          "output_type": "execute_result",
          "data": {
            "text/plain": [
              "MultinomialNB(class_prior=[0.25, 0.75])"
            ]
          },
          "metadata": {},
          "execution_count": 373
        }
      ],
      "source": [
        "token = RegexpTokenizer(r'[a-zA-Z0-9]+')\n",
        "cv = CountVectorizer(stop_words='english',ngram_range = (1,1),tokenizer = token.tokenize)\n",
        "text_counts = cv.fit_transform(x)\n",
        "\n",
        "X_train, X_test, Y_train, Y_test = train_test_split(text_counts, y, test_size=0.2, random_state=5)\n",
        "\n",
        "X_train_Act, X_test_Act, Y_train_Act, Y_test_Act = train_test_split(x, y, test_size=0.2, random_state=5)\n",
        "\n",
        "MNB = MultinomialNB(class_prior = c_p)\n",
        "MNB.fit(X_train, Y_train)"
      ]
    },
    {
      "cell_type": "code",
      "execution_count": null,
      "metadata": {
        "colab": {
          "base_uri": "https://localhost:8080/"
        },
        "id": "n0caOICTaqiZ",
        "outputId": "4a5eab51-82e5-4ed2-f258-4192108e741c"
      },
      "outputs": [
        {
          "output_type": "stream",
          "name": "stdout",
          "text": [
            "82.50%\n",
            "\n",
            "Input : There were too many close ups.\n",
            "Predicted : Positive\n",
            "Actual : Negative\n",
            "\n",
            "Input : The characters were very 'stagey' and the storyline was a lot like a stage farce.\n",
            "Predicted : Positive\n",
            "Actual : Negative\n",
            "\n",
            "Input : Very little music or anything to speak of.\n",
            "Predicted : Positive\n",
            "Actual : Negative\n",
            "\n",
            "Input : The characters are fleshed out surprisingly well, particularly Grimes and Blake, and all the actors deliver their sharply scripted lines with just the right amount of deadpan tongue in cheek to make the dialogue both hilarious and realistic.\n",
            "Predicted : Negative\n",
            "Actual : Positive\n",
            "\n",
            "Input : Predictable, but not a bad watch.\n",
            "Predicted : Negative\n",
            "Actual : Positive\n",
            "\n",
            "Input : This scene is very strong and unpleasant.\n",
            "Predicted : Positive\n",
            "Actual : Negative\n",
            "\n",
            "Input : there are so many problems i dont know where to start.\n",
            "Predicted : Positive\n",
            "Actual : Negative\n",
            "\n",
            "Input : The least said about the acting the better.\n",
            "Predicted : Positive\n",
            "Actual : Negative\n",
            "\n",
            "Input : You share General Loewenhielm's exquisite joy in his partaking of the Cailles en Sarcophage even though you are just watching a movie - but you do wish for just a small sample to savor.\n",
            "Predicted : Negative\n",
            "Actual : Positive\n",
            "\n",
            "Input : The stories were as unbelievable as the actors.\n",
            "Predicted : Positive\n",
            "Actual : Negative\n",
            "\n"
          ]
        }
      ],
      "source": [
        "predicted = MNB.predict(X_test)\n",
        "accuracy_score = metrics.accuracy_score(predicted, Y_test)\n",
        "print(str('{:04.2f}'.format(accuracy_score*100))+'%')\n",
        "print()\n",
        "counter = 0\n",
        "for i in range(0, len(predicted)):\n",
        "  if predicted[i] != Y_test[i]:\n",
        "    print('Input : ' + X_test_Act[i])\n",
        "    if predicted[i] == 0:\n",
        "      print('Predicted : Negative')\n",
        "    else:\n",
        "      print('Predicted : Positive')\n",
        "    if Y_test[i] == 0:\n",
        "      print('Actual : Negative')\n",
        "    else:\n",
        "      print('Actual : Positive')\n",
        "    print()\n",
        "    counter += 1\n",
        "  if(counter >= 10):\n",
        "    break"
      ]
    }
  ],
  "metadata": {
    "accelerator": "GPU",
    "colab": {
      "provenance": [],
      "collapsed_sections": [
        "Wd-LFCKSkNit",
        "49ykVUYwlDSa",
        "6-rAQRY6YbFz"
      ]
    },
    "gpuClass": "standard",
    "kernelspec": {
      "display_name": "Python 3",
      "name": "python3"
    },
    "language_info": {
      "name": "python"
    }
  },
  "nbformat": 4,
  "nbformat_minor": 0
}